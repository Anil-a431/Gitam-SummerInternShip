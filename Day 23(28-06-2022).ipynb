{
 "cells": [
  {
   "cell_type": "markdown",
   "metadata": {},
   "source": [
    "### OOP of Python"
   ]
  },
  {
   "cell_type": "markdown",
   "metadata": {},
   "source": [
    "### Inheritance\n",
    "- Creating a new class from existing class is **Inheritance**\n",
    "- Acquire the properties from base class to derived class that is Inheritance\n",
    "- Acquire the properties from parent class to child class that is Inheritance\n",
    "- Differnt types of Inheritance\n",
    "    - Single Inheritance\n",
    "    - Multi Level Inheritance\n",
    "    - Multiple Inheritance"
   ]
  },
  {
   "cell_type": "markdown",
   "metadata": {},
   "source": [
    "### Single Inheritance\n",
    "- We have single base class followed by single derived class"
   ]
  },
  {
   "cell_type": "code",
   "execution_count": 1,
   "metadata": {},
   "outputs": [],
   "source": [
    "class Base:\n",
    "    def m1(self):\n",
    "        return 'm1 from Base class'\n",
    "    pass\n",
    "class Child(Base):\n",
    "    def m2(self):\n",
    "        return 'm2 from Child class'\n",
    "    pass"
   ]
  },
  {
   "cell_type": "code",
   "execution_count": 2,
   "metadata": {},
   "outputs": [
    {
     "data": {
      "text/plain": [
       "'m1 from Base class'"
      ]
     },
     "execution_count": 2,
     "metadata": {},
     "output_type": "execute_result"
    }
   ],
   "source": [
    "obj = Child()\n",
    "obj.m1()"
   ]
  },
  {
   "cell_type": "code",
   "execution_count": 3,
   "metadata": {},
   "outputs": [
    {
     "data": {
      "text/plain": [
       "'m2 from Child class'"
      ]
     },
     "execution_count": 3,
     "metadata": {},
     "output_type": "execute_result"
    }
   ],
   "source": [
    "obj.m2()"
   ]
  },
  {
   "cell_type": "code",
   "execution_count": 14,
   "metadata": {},
   "outputs": [],
   "source": [
    "class MyBaseClass:\n",
    "    def __init__(self):\n",
    "        print('I am Constructor of Base class')\n",
    "        return\n",
    "    def m1(self):\n",
    "        print('I am m1() of Base class')\n",
    "        return\n",
    "    def __del__(self):\n",
    "        print('Delete of Base class')\n",
    "\n",
    "    pass\n",
    "class MyDerivedClass(MyBaseClass):\n",
    "    def __init__(self):\n",
    "        super().__init__()\n",
    "        print('I am Constructor of Derived class')\n",
    "        return\n",
    "    def m2(self):\n",
    "        print('I am m2() of Derived class')\n",
    "        return\n",
    "    def __del__(self):\n",
    "        super().__del__()\n",
    "        print('Delete of Derived class')\n",
    "    pass"
   ]
  },
  {
   "cell_type": "code",
   "execution_count": 15,
   "metadata": {},
   "outputs": [
    {
     "name": "stdout",
     "output_type": "stream",
     "text": [
      "I am Constructor of Base class\n",
      "I am Constructor of Derived class\n",
      "Delete of Base class\n",
      "Delete of Derived class\n"
     ]
    }
   ],
   "source": [
    "obj = MyDerivedClass()\n",
    "del obj"
   ]
  },
  {
   "cell_type": "code",
   "execution_count": 16,
   "metadata": {},
   "outputs": [],
   "source": [
    "# Multi Level Inheritance\n",
    "class MyBaseClass:\n",
    "    def __init__(self):\n",
    "        return\n",
    "    def m1(self):\n",
    "        return\n",
    "    def __del__(self):\n",
    "        return\n",
    "    pass\n",
    "class MyChildClass1(MyBaseClass):\n",
    "    def __init__(self):\n",
    "        return\n",
    "    def m2(self):\n",
    "        return\n",
    "    def __del__(self):\n",
    "        return\n",
    "    pass\n",
    "class MyChildClass2(MyChildClass1):\n",
    "    def __init__(self):\n",
    "        return\n",
    "    def m3(self):\n",
    "        return\n",
    "    def __del__(self):\n",
    "        return\n",
    "    pass"
   ]
  },
  {
   "cell_type": "markdown",
   "metadata": {},
   "source": [
    "### Multiple Inheritance\n",
    "- Multiple Inheritance means we have multiple base classes and single derived class"
   ]
  },
  {
   "cell_type": "code",
   "execution_count": 17,
   "metadata": {},
   "outputs": [],
   "source": [
    "class Base1:\n",
    "    pass\n",
    "class Base2:\n",
    "    pass\n",
    "class Derived(Base1,Base2):\n",
    "    pass"
   ]
  },
  {
   "cell_type": "code",
   "execution_count": null,
   "metadata": {},
   "outputs": [],
   "source": []
  }
 ],
 "metadata": {
  "kernelspec": {
   "display_name": "Python 3",
   "language": "python",
   "name": "python3"
  },
  "language_info": {
   "codemirror_mode": {
    "name": "ipython",
    "version": 3
   },
   "file_extension": ".py",
   "mimetype": "text/x-python",
   "name": "python",
   "nbconvert_exporter": "python",
   "pygments_lexer": "ipython3",
   "version": "3.8.3"
  }
 },
 "nbformat": 4,
 "nbformat_minor": 4
}
