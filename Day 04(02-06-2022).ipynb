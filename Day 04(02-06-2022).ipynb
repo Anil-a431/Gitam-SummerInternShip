{
 "cells": [
  {
   "cell_type": "markdown",
   "metadata": {},
   "source": [
    "### Today Objectives\n",
    "- Control Flow Statements\n",
    "    - Conditional Statements\n",
    "        - if - else\n",
    "    - Looping Statements\n",
    "        - while\n",
    "        - for"
   ]
  },
  {
   "cell_type": "markdown",
   "metadata": {},
   "source": [
    "- Control Flow statements are used to divide the program to multiple blocks\n",
    "- So that the program can execute little more faster as compared general program"
   ]
  },
  {
   "cell_type": "markdown",
   "metadata": {},
   "source": [
    "### Conditional Statements\n",
    "- **if-else**\n",
    "```python\n",
    "    if Boolean_Condition :\n",
    "        Statements\n",
    "    else:\n",
    "        Statements\n",
    "```\n",
    "- If the Condition is evaulated to True then the block of if statements will be executed otherwise then else block statements will be executed"
   ]
  },
  {
   "cell_type": "code",
   "execution_count": 1,
   "metadata": {},
   "outputs": [],
   "source": [
    "# Read a Number as input let check whether given number is even or odd"
   ]
  },
  {
   "cell_type": "code",
   "execution_count": 3,
   "metadata": {},
   "outputs": [
    {
     "name": "stdout",
     "output_type": "stream",
     "text": [
      "12\n",
      "Even Number\n"
     ]
    }
   ],
   "source": [
    "num = int(input())\n",
    "if num % 2 == 0:\n",
    "    print('Even Number')\n",
    "else:\n",
    "    print('Odd Number')"
   ]
  },
  {
   "cell_type": "code",
   "execution_count": 4,
   "metadata": {},
   "outputs": [],
   "source": [
    "# Read a Number as Input check whether the number is Positive or Negative number"
   ]
  },
  {
   "cell_type": "code",
   "execution_count": 11,
   "metadata": {},
   "outputs": [
    {
     "name": "stdout",
     "output_type": "stream",
     "text": [
      "0\n",
      "Negative Number\n"
     ]
    }
   ],
   "source": [
    "num = int(input())\n",
    "if num > 0 :\n",
    "    print('Positive Number')\n",
    "else:\n",
    "    print('Negative Number')"
   ]
  },
  {
   "cell_type": "code",
   "execution_count": 9,
   "metadata": {},
   "outputs": [
    {
     "name": "stdout",
     "output_type": "stream",
     "text": [
      "Hello\n"
     ]
    }
   ],
   "source": [
    "if True:\n",
    "    print('Hello')\n",
    "else:\n",
    "    print('Hi`')"
   ]
  },
  {
   "cell_type": "code",
   "execution_count": 10,
   "metadata": {},
   "outputs": [
    {
     "name": "stdout",
     "output_type": "stream",
     "text": [
      "Hi\n"
     ]
    }
   ],
   "source": [
    "if False:\n",
    "    print('Hello')\n",
    "else:\n",
    "    print('Hi')"
   ]
  },
  {
   "cell_type": "markdown",
   "metadata": {},
   "source": [
    "#### Let's Write a Program with Multiple Conditions with If-else Statement\n",
    "```Python\n",
    "    if Boolean_Condition:\n",
    "        Statements\n",
    "    elif Boolean_Condition:\n",
    "        Statements\n",
    "    elif Boolean_Condition:\n",
    "        Statements\n",
    "    else:\n",
    "        Statements\n",
    "```\n"
   ]
  },
  {
   "cell_type": "code",
   "execution_count": 14,
   "metadata": {},
   "outputs": [
    {
     "name": "stdout",
     "output_type": "stream",
     "text": [
      "0\n",
      "Zero Number\n"
     ]
    }
   ],
   "source": [
    "num  = int(input())\n",
    "if num > 0:\n",
    "    print('Positive Number')\n",
    "elif num < 0:\n",
    "    print('Negative Number')\n",
    "elif num == 0:\n",
    "    print('Zero Number')"
   ]
  },
  {
   "cell_type": "code",
   "execution_count": 18,
   "metadata": {},
   "outputs": [
    {
     "name": "stdout",
     "output_type": "stream",
     "text": [
      "Hello\n"
     ]
    }
   ],
   "source": [
    "x = 100\n",
    "if x > 110:\n",
    "    print('Good')\n",
    "elif x > 120:\n",
    "    print('Better')\n",
    "elif x > 130:\n",
    "    print('Best')\n",
    "else:\n",
    "    print('Hello')"
   ]
  },
  {
   "cell_type": "markdown",
   "metadata": {},
   "source": [
    "### Looping Statements\n",
    "- Loop statements are used to iterate over the set of values\n",
    "    - while\n",
    "    - for"
   ]
  },
  {
   "cell_type": "markdown",
   "metadata": {},
   "source": [
    "### while loop\n",
    "- **Syntax**\n",
    "```Python\n",
    "    while Boolean_Condition:\n",
    "        Statements\n",
    "        Loop Variable Increment / Decrement\n",
    "```"
   ]
  },
  {
   "cell_type": "code",
   "execution_count": 20,
   "metadata": {},
   "outputs": [
    {
     "name": "stdout",
     "output_type": "stream",
     "text": [
      "1 2 3 4 5 6 7 8 9 10 "
     ]
    }
   ],
   "source": [
    "# Print the Series from 1 to 10\n",
    "i = 1\n",
    "while i <= 10:\n",
    "    print(i,end = ' ')\n",
    "    i += 1"
   ]
  },
  {
   "cell_type": "code",
   "execution_count": 21,
   "metadata": {},
   "outputs": [
    {
     "name": "stdout",
     "output_type": "stream",
     "text": [
      "10 9 8 7 6 5 4 3 2 1 "
     ]
    }
   ],
   "source": [
    "# Print the Values from 10 1\n",
    "i = 10\n",
    "while i >= 1:\n",
    "    print(i,end = ' ')\n",
    "    i -= 1"
   ]
  },
  {
   "cell_type": "code",
   "execution_count": null,
   "metadata": {},
   "outputs": [],
   "source": []
  },
  {
   "cell_type": "code",
   "execution_count": null,
   "metadata": {},
   "outputs": [],
   "source": []
  }
 ],
 "metadata": {
  "kernelspec": {
   "display_name": "Python 3",
   "language": "python",
   "name": "python3"
  },
  "language_info": {
   "codemirror_mode": {
    "name": "ipython",
    "version": 3
   },
   "file_extension": ".py",
   "mimetype": "text/x-python",
   "name": "python",
   "nbconvert_exporter": "python",
   "pygments_lexer": "ipython3",
   "version": "3.8.3"
  }
 },
 "nbformat": 4,
 "nbformat_minor": 4
}
