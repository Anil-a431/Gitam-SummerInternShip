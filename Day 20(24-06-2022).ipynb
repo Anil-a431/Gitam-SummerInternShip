{
 "cells": [
  {
   "cell_type": "code",
   "execution_count": 1,
   "metadata": {},
   "outputs": [
    {
     "data": {
      "text/plain": [
       "[19, 2, 32, 1, 191, 111]"
      ]
     },
     "execution_count": 1,
     "metadata": {},
     "output_type": "execute_result"
    }
   ],
   "source": [
    "li = [19,2,32,1,191,111]\n",
    "li"
   ]
  },
  {
   "cell_type": "code",
   "execution_count": 2,
   "metadata": {},
   "outputs": [],
   "source": [
    "def sum_li(li):\n",
    "    s = 0\n",
    "    for i in li:\n",
    "        s += i\n",
    "    return s"
   ]
  },
  {
   "cell_type": "code",
   "execution_count": 3,
   "metadata": {},
   "outputs": [
    {
     "data": {
      "text/plain": [
       "356"
      ]
     },
     "execution_count": 3,
     "metadata": {},
     "output_type": "execute_result"
    }
   ],
   "source": [
    "sum_li(li)"
   ]
  },
  {
   "cell_type": "code",
   "execution_count": 4,
   "metadata": {},
   "outputs": [
    {
     "data": {
      "text/plain": [
       "191"
      ]
     },
     "execution_count": 4,
     "metadata": {},
     "output_type": "execute_result"
    }
   ],
   "source": [
    "max(li)"
   ]
  },
  {
   "cell_type": "code",
   "execution_count": 6,
   "metadata": {},
   "outputs": [],
   "source": [
    "def large_element(li):\n",
    "    large_item = 0\n",
    "    for i in li:\n",
    "        if i > large_item:\n",
    "            large_item = i\n",
    "    return large_item"
   ]
  },
  {
   "cell_type": "code",
   "execution_count": 7,
   "metadata": {},
   "outputs": [
    {
     "data": {
      "text/plain": [
       "191"
      ]
     },
     "execution_count": 7,
     "metadata": {},
     "output_type": "execute_result"
    }
   ],
   "source": [
    "large_element(li)"
   ]
  },
  {
   "cell_type": "markdown",
   "metadata": {},
   "source": [
    "### Lambda with Reduce Method"
   ]
  },
  {
   "cell_type": "code",
   "execution_count": 8,
   "metadata": {},
   "outputs": [
    {
     "name": "stdout",
     "output_type": "stream",
     "text": [
      "356\n"
     ]
    }
   ],
   "source": [
    "from functools import reduce\n",
    "s = reduce(lambda x,y:x+y,li)\n",
    "print(s)"
   ]
  },
  {
   "cell_type": "code",
   "execution_count": 9,
   "metadata": {},
   "outputs": [
    {
     "data": {
      "text/plain": [
       "191"
      ]
     },
     "execution_count": 9,
     "metadata": {},
     "output_type": "execute_result"
    }
   ],
   "source": [
    "large_item = reduce(lambda x,y:x if x>y else y,li)\n",
    "large_item"
   ]
  },
  {
   "cell_type": "code",
   "execution_count": 10,
   "metadata": {},
   "outputs": [
    {
     "data": {
      "text/plain": [
       "1"
      ]
     },
     "execution_count": 10,
     "metadata": {},
     "output_type": "execute_result"
    }
   ],
   "source": [
    "least_item =  reduce(lambda x,y:x if x<y else y,li)\n",
    "least_item"
   ]
  },
  {
   "cell_type": "code",
   "execution_count": 11,
   "metadata": {},
   "outputs": [
    {
     "data": {
      "text/plain": [
       "5050"
      ]
     },
     "execution_count": 11,
     "metadata": {},
     "output_type": "execute_result"
    }
   ],
   "source": [
    "res =  reduce(lambda x,y:x+y,range(1,101))\n",
    "res"
   ]
  },
  {
   "cell_type": "code",
   "execution_count": 12,
   "metadata": {},
   "outputs": [
    {
     "data": {
      "text/plain": [
       "93326215443944152681699238856266700490715968264381621468592963895217599993229915608941463976156518286253697920827223758251185210916864000000000000000000000000"
      ]
     },
     "execution_count": 12,
     "metadata": {},
     "output_type": "execute_result"
    }
   ],
   "source": [
    "res =  reduce(lambda x,y:x*y,range(1,101))\n",
    "res"
   ]
  },
  {
   "cell_type": "markdown",
   "metadata": {},
   "source": [
    "### Python Dictionary Comprehension\n",
    "- Dictionary comprehension is a method for transforming one dictionary into another dictionary\n",
    "- During this conversion, item within the original dictionary can be conditionally included in the new dict and each item can be transformed as needed\n",
    "```Python\n",
    "    dict_variable = {key:value for (key,value) in dict.items()}\n",
    "```\n",
    "#### Why Use Dict Comprehension\n",
    "- Dictionary Comprehension a powerful concept of Python Programming which substitute for the loops and Lambda Functions\n",
    "- However, not all for loop can be written with Dict Comprehension"
   ]
  },
  {
   "cell_type": "code",
   "execution_count": 13,
   "metadata": {},
   "outputs": [
    {
     "name": "stdout",
     "output_type": "stream",
     "text": [
      "{'a': 1, 'b': 2, 'c': 3, 'd': 4} <class 'dict'>\n"
     ]
    }
   ],
   "source": [
    "dict1 = {'a':1,'b':2,'c':3,'d':4}\n",
    "print(dict1,type(dict1))"
   ]
  },
  {
   "cell_type": "code",
   "execution_count": 15,
   "metadata": {},
   "outputs": [
    {
     "data": {
      "text/plain": [
       "dict_keys(['a', 'b', 'c', 'd'])"
      ]
     },
     "execution_count": 15,
     "metadata": {},
     "output_type": "execute_result"
    }
   ],
   "source": [
    "dict1.keys()"
   ]
  },
  {
   "cell_type": "code",
   "execution_count": 16,
   "metadata": {},
   "outputs": [
    {
     "data": {
      "text/plain": [
       "dict_values([1, 2, 3, 4])"
      ]
     },
     "execution_count": 16,
     "metadata": {},
     "output_type": "execute_result"
    }
   ],
   "source": [
    "dict1.values()"
   ]
  },
  {
   "cell_type": "code",
   "execution_count": 17,
   "metadata": {},
   "outputs": [
    {
     "data": {
      "text/plain": [
       "dict_items([('a', 1), ('b', 2), ('c', 3), ('d', 4)])"
      ]
     },
     "execution_count": 17,
     "metadata": {},
     "output_type": "execute_result"
    }
   ],
   "source": [
    "dict1.items()"
   ]
  },
  {
   "cell_type": "code",
   "execution_count": 19,
   "metadata": {},
   "outputs": [
    {
     "data": {
      "text/plain": [
       "{'a': 2, 'b': 4, 'c': 6, 'd': 8}"
      ]
     },
     "execution_count": 19,
     "metadata": {},
     "output_type": "execute_result"
    }
   ],
   "source": [
    "new_dict =  {k:v*2 for(k,v) in dict1.items()}\n",
    "new_dict"
   ]
  },
  {
   "cell_type": "code",
   "execution_count": 20,
   "metadata": {},
   "outputs": [],
   "source": [
    "x = range(1,11)\n",
    "new_dict_for = {}\n",
    "for i in x:\n",
    "    new_dict_for[i] = i**2"
   ]
  },
  {
   "cell_type": "code",
   "execution_count": 21,
   "metadata": {},
   "outputs": [
    {
     "data": {
      "text/plain": [
       "{1: 1, 2: 4, 3: 9, 4: 16, 5: 25, 6: 36, 7: 49, 8: 64, 9: 81, 10: 100}"
      ]
     },
     "execution_count": 21,
     "metadata": {},
     "output_type": "execute_result"
    }
   ],
   "source": [
    "new_dict_for"
   ]
  },
  {
   "cell_type": "code",
   "execution_count": 22,
   "metadata": {},
   "outputs": [
    {
     "data": {
      "text/plain": [
       "{1: 1, 2: 4, 3: 9, 4: 16, 5: 25, 6: 36, 7: 49, 8: 64, 9: 81, 10: 100}"
      ]
     },
     "execution_count": 22,
     "metadata": {},
     "output_type": "execute_result"
    }
   ],
   "source": [
    "new_dict_com = {i:i**2 for i in x}\n",
    "new_dict_com"
   ]
  },
  {
   "cell_type": "code",
   "execution_count": 23,
   "metadata": {},
   "outputs": [],
   "source": [
    "x = range(1,11)\n",
    "new_dict_for1 = {}\n",
    "for i in x:\n",
    "    if i % 2 == 0:\n",
    "        new_dict_for1[i] = i**2\n",
    "        "
   ]
  },
  {
   "cell_type": "code",
   "execution_count": 24,
   "metadata": {},
   "outputs": [
    {
     "data": {
      "text/plain": [
       "{2: 4, 4: 16, 6: 36, 8: 64, 10: 100}"
      ]
     },
     "execution_count": 24,
     "metadata": {},
     "output_type": "execute_result"
    }
   ],
   "source": [
    "new_dict_for1"
   ]
  },
  {
   "cell_type": "code",
   "execution_count": 25,
   "metadata": {},
   "outputs": [
    {
     "data": {
      "text/plain": [
       "{2: 4, 4: 16, 6: 36, 8: 64, 10: 100}"
      ]
     },
     "execution_count": 25,
     "metadata": {},
     "output_type": "execute_result"
    }
   ],
   "source": [
    "new_dict_com = {i:i**2 for i in x if i % 2 == 0}\n",
    "new_dict_com"
   ]
  },
  {
   "cell_type": "code",
   "execution_count": 27,
   "metadata": {},
   "outputs": [],
   "source": [
    "dict2 = {'a':1,'b':5,'c':18,'d':11,'e':111,'f':17}"
   ]
  },
  {
   "cell_type": "code",
   "execution_count": 30,
   "metadata": {},
   "outputs": [
    {
     "data": {
      "text/plain": [
       "{'b': 5, 'd': 11, 'f': 17}"
      ]
     },
     "execution_count": 30,
     "metadata": {},
     "output_type": "execute_result"
    }
   ],
   "source": [
    "is_primes = [2,3,5,7,11,13,17,19]\n",
    "only_primes = {k:v for (k,v) in dict2.items() if v in is_primes}\n",
    "only_primes"
   ]
  },
  {
   "cell_type": "code",
   "execution_count": 31,
   "metadata": {},
   "outputs": [
    {
     "data": {
      "text/plain": [
       "{'Anil Kumar': 10, 'Ajay': 4, 'Suresh': 6, 'Dinesh Kumar': 12}"
      ]
     },
     "execution_count": 31,
     "metadata": {},
     "output_type": "execute_result"
    }
   ],
   "source": [
    "dict_names = ['Anil Kumar','Ajay','Suresh','Dinesh Kumar']\n",
    "new_dict_names =  {i:len(i) for i in dict_names}\n",
    "new_dict_names"
   ]
  },
  {
   "cell_type": "code",
   "execution_count": 32,
   "metadata": {},
   "outputs": [
    {
     "data": {
      "text/plain": [
       "'runner0:x:14000:14000::/home/runner0:/bin/sh\\nrunner1:x:14001:14001::/home/runner1:/bin/sh\\nrunner2:x:14002:14002::/home/runner2:/bin/sh\\nrunner3:x:14003:14003::/home/runner3:/bin/sh\\nrunner4:x:14004:14004::/home/runner4:/bin/sh\\nrunner5:x:14005:14005::/home/runner5:/bin/sh\\nrunner6:x:14006:14006::/home/runner6:/bin/sh\\nrunner7:x:14007:14007::/home/runner7:/bin/sh\\nrunner8:x:14008:14008::/home/runner8:/bin/sh\\nrunner9:x:14009:14009::/home/runner9:/bin/sh\\nrunner10:x:14010:14010::/home/runner10:/bin/sh\\nrunner11:x:14011:14011::/home/runner11:/bin/sh'"
      ]
     },
     "execution_count": 32,
     "metadata": {},
     "output_type": "execute_result"
    }
   ],
   "source": [
    "s1 ='''runner0:x:14000:14000::/home/runner0:/bin/sh\n",
    "runner1:x:14001:14001::/home/runner1:/bin/sh\n",
    "runner2:x:14002:14002::/home/runner2:/bin/sh\n",
    "runner3:x:14003:14003::/home/runner3:/bin/sh\n",
    "runner4:x:14004:14004::/home/runner4:/bin/sh\n",
    "runner5:x:14005:14005::/home/runner5:/bin/sh\n",
    "runner6:x:14006:14006::/home/runner6:/bin/sh\n",
    "runner7:x:14007:14007::/home/runner7:/bin/sh\n",
    "runner8:x:14008:14008::/home/runner8:/bin/sh\n",
    "runner9:x:14009:14009::/home/runner9:/bin/sh\n",
    "runner10:x:14010:14010::/home/runner10:/bin/sh\n",
    "runner11:x:14011:14011::/home/runner11:/bin/sh'''\n",
    "s1"
   ]
  },
  {
   "cell_type": "code",
   "execution_count": null,
   "metadata": {},
   "outputs": [],
   "source": [
    "Username:Password:UID:GID:Comment:HomeDir:LoginType\n",
    "[{'Username':'runner0','Password':'x':'UID':14000,'GID':14000,'Comment':'','HomeDir':'/home/runner0',\n",
    "'LoginType':'/bin/sh'},{},{},{},{}.......{}]"
   ]
  }
 ],
 "metadata": {
  "kernelspec": {
   "display_name": "Python 3",
   "language": "python",
   "name": "python3"
  },
  "language_info": {
   "codemirror_mode": {
    "name": "ipython",
    "version": 3
   },
   "file_extension": ".py",
   "mimetype": "text/x-python",
   "name": "python",
   "nbconvert_exporter": "python",
   "pygments_lexer": "ipython3",
   "version": "3.8.3"
  }
 },
 "nbformat": 4,
 "nbformat_minor": 4
}
