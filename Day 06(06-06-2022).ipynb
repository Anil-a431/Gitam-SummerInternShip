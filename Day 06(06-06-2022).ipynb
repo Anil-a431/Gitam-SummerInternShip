{
 "cells": [
  {
   "cell_type": "markdown",
   "metadata": {},
   "source": [
    "### Examples on Loops"
   ]
  },
  {
   "cell_type": "markdown",
   "metadata": {},
   "source": [
    "### Problem 1\n",
    "- Read the number as input and Print the Circles and Triangles in the given number\n",
    "- Example Test Cases\n",
    "    - 1980   -  4\n",
    "    - 999    -  3\n",
    "    - 888    -  6\n",
    "    - 144    -  2\n",
    "    - 1257   -  0"
   ]
  },
  {
   "cell_type": "code",
   "execution_count": 1,
   "metadata": {},
   "outputs": [
    {
     "name": "stdout",
     "output_type": "stream",
     "text": [
      "1980\n",
      "4\n"
     ]
    }
   ],
   "source": [
    "n = int(input())\n",
    "res_out = 0\n",
    "while n != 0:\n",
    "    r = n % 10\n",
    "    n = n // 10\n",
    "    if r == 0 or r == 6 or r == 9 or r == 4:\n",
    "        res_out += 1\n",
    "    elif r == 8:\n",
    "        res_out += 2\n",
    "print(res_out)        "
   ]
  },
  {
   "cell_type": "markdown",
   "metadata": {},
   "source": [
    "### Problem 2\n",
    "- Read the Input as Numnber\n",
    "- Print the Output as Yes / No\n",
    "- Hint : Each Digit Factorial Sum is same as Input number then you have print Yes\n",
    "- Otherwise You need to print as No\n",
    "- Example:\n",
    "    - 145 -- Yes\n",
    "        - 1! + 4! + 5! -- 1 + 24 + 120 -- 145\n",
    "    - 123 -- No\n",
    "        - 1! + 2! + 3! -- 1 + 2 + 6 -- 9"
   ]
  },
  {
   "cell_type": "code",
   "execution_count": 5,
   "metadata": {},
   "outputs": [
    {
     "name": "stdout",
     "output_type": "stream",
     "text": [
      "123\n",
      "No\n"
     ]
    }
   ],
   "source": [
    "n = int(input())\n",
    "buffer = n\n",
    "s = 0\n",
    "while n != 0:\n",
    "    r = n % 10\n",
    "    fact = 1\n",
    "    while r > 0:\n",
    "        fact *= r\n",
    "        r -= 1\n",
    "    n = n // 10\n",
    "    s += fact\n",
    "if s == buffer:\n",
    "    print('Yes')\n",
    "else:\n",
    "    print('No')"
   ]
  },
  {
   "cell_type": "markdown",
   "metadata": {},
   "source": [
    "### Problem 3\n",
    "- Read the Number as Input\n",
    "- Output Should be Palindrome or Not a Palindrome\n",
    "- Example\n",
    "    - 121 -- Palindrome\n",
    "    - 11133112233 -- Not a Palindrome"
   ]
  },
  {
   "cell_type": "code",
   "execution_count": 8,
   "metadata": {},
   "outputs": [
    {
     "name": "stdout",
     "output_type": "stream",
     "text": [
      "1234\n",
      "Not a Palindrome\n"
     ]
    }
   ],
   "source": [
    "n = int(input())\n",
    "temp = n\n",
    "rev = 0\n",
    "while n != 0:\n",
    "    r = n % 10\n",
    "    n = n // 10\n",
    "    rev = rev*10 + r\n",
    "if temp == rev:\n",
    "    print('Palindrome')\n",
    "else:\n",
    "    print('Not a Palindrome')"
   ]
  },
  {
   "cell_type": "markdown",
   "metadata": {},
   "source": [
    "### Problem 4\n",
    "- Read two numbers as input\n",
    "- Print the count of Palindrome numbers between those limits\n",
    "- Example:\n",
    "    - 1 10  -- 9\n",
    "    - 1 100 -- 18"
   ]
  },
  {
   "cell_type": "code",
   "execution_count": 13,
   "metadata": {},
   "outputs": [
    {
     "name": "stdout",
     "output_type": "stream",
     "text": [
      "1\n",
      "1000\n",
      "1 2 3 4 5 6 7 8 9 11 22 33 44 55 66 77 88 99 101 111 121 131 141 151 161 171 181 191 202 212 222 232 242 252 262 272 282 292 303 313 323 333 343 353 363 373 383 393 404 414 424 434 444 454 464 474 484 494 505 515 525 535 545 555 565 575 585 595 606 616 626 636 646 656 666 676 686 696 707 717 727 737 747 757 767 777 787 797 808 818 828 838 848 858 868 878 888 898 909 919 929 939 949 959 969 979 989 999 "
     ]
    }
   ],
   "source": [
    "l1 = int(input())\n",
    "l2 = int(input())\n",
    "cnt = 0\n",
    "while l1 <= l2:\n",
    "    rev = 0\n",
    "    temp = l1\n",
    "    while l1 != 0:\n",
    "        r = l1 % 10\n",
    "        rev = rev*10 + r\n",
    "        l1 = l1 // 10\n",
    "    if rev == temp:\n",
    "        print(rev,end = ' ')\n",
    "        #cnt +=1 \n",
    "    l1 = temp\n",
    "    l1 += 1\n",
    "#print(cnt)"
   ]
  },
  {
   "cell_type": "markdown",
   "metadata": {},
   "source": [
    "### For Loop In Python\n",
    "```Python\n",
    "    for <LocalVar> in <GroupValues>:\n",
    "        Statements\n",
    "```"
   ]
  },
  {
   "cell_type": "code",
   "execution_count": 17,
   "metadata": {},
   "outputs": [
    {
     "data": {
      "text/plain": [
       "range(0, 10)"
      ]
     },
     "execution_count": 17,
     "metadata": {},
     "output_type": "execute_result"
    }
   ],
   "source": [
    "# End Limit\n",
    "range(10)"
   ]
  },
  {
   "cell_type": "code",
   "execution_count": 15,
   "metadata": {},
   "outputs": [
    {
     "data": {
      "text/plain": [
       "range(1, 10)"
      ]
     },
     "execution_count": 15,
     "metadata": {},
     "output_type": "execute_result"
    }
   ],
   "source": [
    "# Start Limit and End Limit\n",
    "range(1,10)"
   ]
  },
  {
   "cell_type": "code",
   "execution_count": 18,
   "metadata": {},
   "outputs": [
    {
     "data": {
      "text/plain": [
       "range(1, 10, 2)"
      ]
     },
     "execution_count": 18,
     "metadata": {},
     "output_type": "execute_result"
    }
   ],
   "source": [
    "# Start Limit, End Limit and Step\n",
    "range(1,10,2)"
   ]
  },
  {
   "cell_type": "code",
   "execution_count": 19,
   "metadata": {},
   "outputs": [
    {
     "name": "stdout",
     "output_type": "stream",
     "text": [
      "0 1 2 3 4 5 6 7 8 9 "
     ]
    }
   ],
   "source": [
    "for i in range(10):\n",
    "    print(i,end = ' ')"
   ]
  },
  {
   "cell_type": "code",
   "execution_count": 20,
   "metadata": {},
   "outputs": [
    {
     "name": "stdout",
     "output_type": "stream",
     "text": [
      "0 1 2 3 4 5 6 7 8 9 "
     ]
    }
   ],
   "source": [
    "for i in range(0,10):\n",
    "    print(i,end = ' ')"
   ]
  },
  {
   "cell_type": "code",
   "execution_count": 21,
   "metadata": {},
   "outputs": [
    {
     "name": "stdout",
     "output_type": "stream",
     "text": [
      "0 2 4 6 8 "
     ]
    }
   ],
   "source": [
    "for i in range(0,10,2):\n",
    "    print(i,end = ' ')"
   ]
  },
  {
   "cell_type": "code",
   "execution_count": null,
   "metadata": {},
   "outputs": [],
   "source": []
  }
 ],
 "metadata": {
  "kernelspec": {
   "display_name": "Python 3",
   "language": "python",
   "name": "python3"
  },
  "language_info": {
   "codemirror_mode": {
    "name": "ipython",
    "version": 3
   },
   "file_extension": ".py",
   "mimetype": "text/x-python",
   "name": "python",
   "nbconvert_exporter": "python",
   "pygments_lexer": "ipython3",
   "version": "3.8.3"
  }
 },
 "nbformat": 4,
 "nbformat_minor": 4
}
