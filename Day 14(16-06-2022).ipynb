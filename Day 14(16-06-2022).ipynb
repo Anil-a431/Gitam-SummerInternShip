{
 "cells": [
  {
   "cell_type": "markdown",
   "metadata": {},
   "source": [
    "## String Methods and String Examples"
   ]
  },
  {
   "cell_type": "markdown",
   "metadata": {},
   "source": [
    "### String Methods"
   ]
  },
  {
   "cell_type": "markdown",
   "metadata": {},
   "source": [
    "- Split()\n",
    "    - Split() will divide the given string into list format default with space character\n",
    "    - Split() also divide the given string into sub parts based on specific character/word\n",
    "- join()\n",
    "    - join() used to join elements of the sequence separated by a string \n",
    "        - string_name.join(iterable)\n",
    "- replace()\n",
    "    - replace wil be replaces the all occurances of substring are replaced with another substring\n",
    "        - string_name.replace(oldstring,newstring)"
   ]
  },
  {
   "cell_type": "code",
   "execution_count": 1,
   "metadata": {},
   "outputs": [
    {
     "name": "stdout",
     "output_type": "stream",
     "text": [
      "Python Programing is very easy to learn <class 'str'>\n"
     ]
    }
   ],
   "source": [
    "s = 'Python Programing is very easy to learn'\n",
    "print(s,type(s))"
   ]
  },
  {
   "cell_type": "code",
   "execution_count": 2,
   "metadata": {},
   "outputs": [
    {
     "data": {
      "text/plain": [
       "['Python', 'Programing', 'is', 'very', 'easy', 'to', 'learn']"
      ]
     },
     "execution_count": 2,
     "metadata": {},
     "output_type": "execute_result"
    }
   ],
   "source": [
    "res_li =  s.split()\n",
    "res_li"
   ]
  },
  {
   "cell_type": "code",
   "execution_count": 3,
   "metadata": {},
   "outputs": [
    {
     "data": {
      "text/plain": [
       "['', 'ython ', 'rograming is very easy to learn']"
      ]
     },
     "execution_count": 3,
     "metadata": {},
     "output_type": "execute_result"
    }
   ],
   "source": [
    "li1 = s.split('P')\n",
    "li1"
   ]
  },
  {
   "cell_type": "code",
   "execution_count": 4,
   "metadata": {},
   "outputs": [
    {
     "data": {
      "text/plain": [
       "['Python Programing is ', ' easy to learn']"
      ]
     },
     "execution_count": 4,
     "metadata": {},
     "output_type": "execute_result"
    }
   ],
   "source": [
    "li2 = s.split('very')\n",
    "li2"
   ]
  },
  {
   "cell_type": "code",
   "execution_count": 5,
   "metadata": {},
   "outputs": [
    {
     "data": {
      "text/plain": [
       "['Python',\n",
       " 'it is very',\n",
       " 'powerful programming',\n",
       " 'lanuage for Data science',\n",
       " 'machine learning']"
      ]
     },
     "execution_count": 5,
     "metadata": {},
     "output_type": "execute_result"
    }
   ],
   "source": [
    "s1 = 'Python,it is very,powerful programming,lanuage for Data science,machine learning'\n",
    "res = s1.split(',')\n",
    "res"
   ]
  },
  {
   "cell_type": "code",
   "execution_count": 6,
   "metadata": {},
   "outputs": [
    {
     "name": "stdout",
     "output_type": "stream",
     "text": [
      "P r o g r a m m i n g\n"
     ]
    }
   ],
   "source": [
    "s2 = 'Programming'\n",
    "print(' '.join(s2))"
   ]
  },
  {
   "cell_type": "code",
   "execution_count": 8,
   "metadata": {},
   "outputs": [
    {
     "data": {
      "text/plain": [
       "'1-2-3-4-5'"
      ]
     },
     "execution_count": 8,
     "metadata": {},
     "output_type": "execute_result"
    }
   ],
   "source": [
    "l = ['1','2','3','4','5']\n",
    "res = '-'.join(l)\n",
    "res"
   ]
  },
  {
   "cell_type": "code",
   "execution_count": 9,
   "metadata": {},
   "outputs": [
    {
     "data": {
      "text/plain": [
       "'Python,it is very,powerful programming,lanuage for Data science,machine learning'"
      ]
     },
     "execution_count": 9,
     "metadata": {},
     "output_type": "execute_result"
    }
   ],
   "source": [
    "s1"
   ]
  },
  {
   "cell_type": "code",
   "execution_count": 10,
   "metadata": {},
   "outputs": [
    {
     "data": {
      "text/plain": [
       "'Python,it is very much,powerful programming,lanuage for Data science,machine learning'"
      ]
     },
     "execution_count": 10,
     "metadata": {},
     "output_type": "execute_result"
    }
   ],
   "source": [
    "s1 = s1.replace('very','very much')\n",
    "s1"
   ]
  },
  {
   "cell_type": "code",
   "execution_count": 11,
   "metadata": {},
   "outputs": [
    {
     "data": {
      "text/plain": [
       "'Python Programing is very easy to learn'"
      ]
     },
     "execution_count": 11,
     "metadata": {},
     "output_type": "execute_result"
    }
   ],
   "source": [
    "s # P y t h o n P r o g r a m m i n g ....."
   ]
  },
  {
   "cell_type": "code",
   "execution_count": 13,
   "metadata": {},
   "outputs": [
    {
     "name": "stdout",
     "output_type": "stream",
     "text": [
      "P y t h o n   P r o g r a m i n g   i s   v e r y   e a s y   t o   l e a r n "
     ]
    }
   ],
   "source": [
    "res_chars = list(s)\n",
    "for i in res_chars:\n",
    "    print(i,end = ' ')"
   ]
  },
  {
   "cell_type": "code",
   "execution_count": 14,
   "metadata": {},
   "outputs": [],
   "source": [
    "# try find the frequencecy of chars in the given string\n",
    "# P : 2,y: 3 t: 1,.........\n",
    "def find_freq_chars(s):\n",
    "    res_chars = list(s)\n",
    "    dict1 = {}\n",
    "    for i in res_chars:\n",
    "        if i in dict1:\n",
    "            dict1[i] += 1\n",
    "        else:\n",
    "            dict1[i] = 1\n",
    "    return dict1"
   ]
  },
  {
   "cell_type": "code",
   "execution_count": 15,
   "metadata": {},
   "outputs": [
    {
     "data": {
      "text/plain": [
       "{'P': 2,\n",
       " 'y': 3,\n",
       " 't': 2,\n",
       " 'h': 1,\n",
       " 'o': 3,\n",
       " 'n': 3,\n",
       " ' ': 6,\n",
       " 'r': 4,\n",
       " 'g': 2,\n",
       " 'a': 3,\n",
       " 'm': 1,\n",
       " 'i': 2,\n",
       " 's': 2,\n",
       " 'v': 1,\n",
       " 'e': 3,\n",
       " 'l': 1}"
      ]
     },
     "execution_count": 15,
     "metadata": {},
     "output_type": "execute_result"
    }
   ],
   "source": [
    "find_freq_chars(s)"
   ]
  },
  {
   "cell_type": "code",
   "execution_count": 16,
   "metadata": {},
   "outputs": [],
   "source": [
    "# Python is very powerful Python very useful python is easy\n",
    "def freq_words(s):\n",
    "    res_words = s.split()\n",
    "    res_dict = {}\n",
    "    for i in res_words:\n",
    "        if i in res_dict:\n",
    "            res_dict[i] += 1\n",
    "        else:\n",
    "            res_dict[i] = 1\n",
    "    return res_dict"
   ]
  },
  {
   "cell_type": "code",
   "execution_count": 17,
   "metadata": {},
   "outputs": [
    {
     "data": {
      "text/plain": [
       "{'Python': 2,\n",
       " 'is': 2,\n",
       " 'very': 2,\n",
       " 'powerful': 1,\n",
       " 'useful': 1,\n",
       " 'python': 1,\n",
       " 'easy': 1}"
      ]
     },
     "execution_count": 17,
     "metadata": {},
     "output_type": "execute_result"
    }
   ],
   "source": [
    "s = 'Python is very powerful Python very useful python is easy'\n",
    "freq_words(s)"
   ]
  },
  {
   "cell_type": "code",
   "execution_count": 18,
   "metadata": {},
   "outputs": [],
   "source": [
    "# s = Applic1a8t8i9on\n",
    "# Output : 1 8 8 9"
   ]
  },
  {
   "cell_type": "code",
   "execution_count": 19,
   "metadata": {},
   "outputs": [
    {
     "name": "stdout",
     "output_type": "stream",
     "text": [
      "1 8 8 9 "
     ]
    }
   ],
   "source": [
    "def req_sol(s):\n",
    "    res_list= list(s)\n",
    "    for i in res_list:\n",
    "        if ord(i)>=48 and ord(i)<=57:\n",
    "            print(i,end=\" \")\n",
    "    return\n",
    "s='Applic1a8t8i9on'\n",
    "req_sol(s)"
   ]
  },
  {
   "cell_type": "code",
   "execution_count": 21,
   "metadata": {},
   "outputs": [
    {
     "name": "stdout",
     "output_type": "stream",
     "text": [
      "1 8 8 9 "
     ]
    }
   ],
   "source": [
    "def extract_digits(s):\n",
    "    for i in range(len(s)):\n",
    "        if ord(s[i]) >= 48 and ord(s[i]) <= 57:\n",
    "            print(s[i],end = ' ')\n",
    "    return\n",
    "s='Applic1a8t8i9on'\n",
    "extract_digits(s)"
   ]
  },
  {
   "cell_type": "code",
   "execution_count": 22,
   "metadata": {},
   "outputs": [
    {
     "data": {
      "text/plain": [
       "'1 8 8 9'"
      ]
     },
     "execution_count": 22,
     "metadata": {},
     "output_type": "execute_result"
    }
   ],
   "source": [
    "def number_string(s):\n",
    "    s1 = ''\n",
    "    for i in s:\n",
    "        if i.isnumeric():\n",
    "            s1+=(i)\n",
    "    return ' '.join(s1)\n",
    "s='Applic1a8t8i9on'\n",
    "number_string(s)"
   ]
  },
  {
   "cell_type": "code",
   "execution_count": 25,
   "metadata": {},
   "outputs": [
    {
     "data": {
      "text/plain": [
       "26"
      ]
     },
     "execution_count": 25,
     "metadata": {},
     "output_type": "execute_result"
    }
   ],
   "source": [
    "# s = 'Applic1a8t8i9on'\n",
    "# Sum of Digits in the given string - int - 1 + 8 + 8 + 9 -- 26\n",
    "def sum_digits_string(s):\n",
    "    res = 0\n",
    "    res_list = list(s)\n",
    "    for i in res_list:\n",
    "        if ord(i) >= 48 and ord(i) <= 57:\n",
    "            res += (int(i))\n",
    "    return res\n",
    "s = 'Applic1a8t8i9on'\n",
    "sum_digits_string(s)"
   ]
  },
  {
   "cell_type": "code",
   "execution_count": 26,
   "metadata": {},
   "outputs": [
    {
     "data": {
      "text/plain": [
       "'PYTHON Programming MADE learing EASY '"
      ]
     },
     "execution_count": 26,
     "metadata": {},
     "output_type": "execute_result"
    }
   ],
   "source": [
    "# s = 'Python Programming made learing easy'\n",
    "# output : PYTHON Programming MADE learning EASY\n",
    "def altenate_words_upper(s):\n",
    "    li_words = s.split()\n",
    "    res_str = ''\n",
    "    for i in range(len(li_words)):\n",
    "        if i % 2 == 0:\n",
    "            res_str += li_words[i].upper()\n",
    "            res_str += ' '\n",
    "        else:\n",
    "            res_str += li_words[i]\n",
    "            res_str += ' '\n",
    "    return res_str\n",
    "s = 'Python Programming made learing easy'\n",
    "altenate_words_upper(s)"
   ]
  },
  {
   "cell_type": "code",
   "execution_count": null,
   "metadata": {},
   "outputs": [],
   "source": []
  }
 ],
 "metadata": {
  "kernelspec": {
   "display_name": "Python 3",
   "language": "python",
   "name": "python3"
  },
  "language_info": {
   "codemirror_mode": {
    "name": "ipython",
    "version": 3
   },
   "file_extension": ".py",
   "mimetype": "text/x-python",
   "name": "python",
   "nbconvert_exporter": "python",
   "pygments_lexer": "ipython3",
   "version": "3.8.3"
  }
 },
 "nbformat": 4,
 "nbformat_minor": 4
}
