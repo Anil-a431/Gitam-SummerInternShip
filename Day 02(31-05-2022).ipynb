{
 "cells": [
  {
   "cell_type": "markdown",
   "metadata": {},
   "source": [
    "### Markdown Examples"
   ]
  },
  {
   "cell_type": "markdown",
   "metadata": {},
   "source": [
    "### Un-Ordered List\n",
    "- One\n",
    "    - SubList 1\n",
    "        - SubList 1.1\n",
    "        - SubList 1.2\n",
    "        - SubList 1.3\n",
    "        - SubList 1.4\n",
    "        - SubList 1.5\n",
    "    - SubList 2\n",
    "- Two\n",
    "- Three\n",
    "- Four\n",
    "    - SubList 1\n",
    "    - SubList 2\n",
    "- Five"
   ]
  },
  {
   "cell_type": "markdown",
   "metadata": {},
   "source": [
    "### Ordered List\n",
    "1. Point 1\n",
    "    1. Point 1.1\n",
    "    2. Point 1.2\n",
    "    3. Point 1.3\n",
    "2. Point 2\n",
    "3. Point 3\n",
    "4. Point 4\n",
    "5. Point 5"
   ]
  },
  {
   "cell_type": "markdown",
   "metadata": {},
   "source": [
    "### Bold, Italic and Bold with Italic"
   ]
  },
  {
   "cell_type": "markdown",
   "metadata": {},
   "source": [
    "- This is all about **Markdown** in Jupyter Notebook\n",
    "- This is all about *Markdown* in Jupyter Notebook\n",
    "- This is all about ***Markdown*** in Jupyter Notebook"
   ]
  },
  {
   "cell_type": "markdown",
   "metadata": {},
   "source": [
    "### Images\n",
    "<img src=\"PythonLogo.png\" height=\"250px\" width=\"250px\" align=\"center\" />"
   ]
  },
  {
   "cell_type": "code",
   "execution_count": 1,
   "metadata": {},
   "outputs": [
    {
     "data": {
      "text/plain": [
       "'C:\\\\Users\\\\Anil Kumar\\\\SummerIntershipProgram'"
      ]
     },
     "execution_count": 1,
     "metadata": {},
     "output_type": "execute_result"
    }
   ],
   "source": [
    "pwd # Present Working Directory"
   ]
  },
  {
   "cell_type": "markdown",
   "metadata": {},
   "source": [
    "### Hyper Links\n",
    "[AnilKumar](https://www.google.com/)"
   ]
  },
  {
   "cell_type": "markdown",
   "metadata": {},
   "source": [
    "### Python Programming\n",
    "- Current Python Version 3.9\n",
    "- Python Can be used as General Purpose programming Language\n",
    "- Python can be used as Object Oriented Programming, Functional Programming Language and Scripting Language"
   ]
  },
  {
   "cell_type": "markdown",
   "metadata": {},
   "source": [
    "### Understand the Basics of Output / Input Functions\n",
    "- **Output Functions**\n",
    "    - print()\n",
    "        - Used to print the output to the console \n",
    "- **Input Functions**\n",
    "    - input()\n",
    "        - Used to print the Input to the Program"
   ]
  },
  {
   "cell_type": "code",
   "execution_count": 2,
   "metadata": {},
   "outputs": [
    {
     "name": "stdout",
     "output_type": "stream",
     "text": [
      "Hello World\n"
     ]
    }
   ],
   "source": [
    "print('Hello World')"
   ]
  },
  {
   "cell_type": "code",
   "execution_count": 3,
   "metadata": {},
   "outputs": [
    {
     "name": "stdout",
     "output_type": "stream",
     "text": [
      "Hello Good morning\n",
      "Welcome to Python with Ds and Ml\n"
     ]
    }
   ],
   "source": [
    "print('Hello Good morning')\n",
    "print('Welcome to Python with Ds and Ml')"
   ]
  },
  {
   "cell_type": "code",
   "execution_count": 4,
   "metadata": {},
   "outputs": [
    {
     "name": "stdout",
     "output_type": "stream",
     "text": [
      "Hello\n",
      "How are you\n"
     ]
    }
   ],
   "source": [
    "print('Hello')\n",
    "print('How are you')"
   ]
  },
  {
   "cell_type": "code",
   "execution_count": 5,
   "metadata": {},
   "outputs": [
    {
     "name": "stdout",
     "output_type": "stream",
     "text": [
      "Hello How are you\n"
     ]
    }
   ],
   "source": [
    "print('Hello',end = ' ')\n",
    "print('How are you')"
   ]
  },
  {
   "cell_type": "code",
   "execution_count": 6,
   "metadata": {},
   "outputs": [
    {
     "name": "stdout",
     "output_type": "stream",
     "text": [
      "Hello How are you\n"
     ]
    }
   ],
   "source": [
    "print('Hello','How are you')"
   ]
  },
  {
   "cell_type": "code",
   "execution_count": 7,
   "metadata": {},
   "outputs": [
    {
     "name": "stdout",
     "output_type": "stream",
     "text": [
      "HelloHow are you\n"
     ]
    }
   ],
   "source": [
    "print('Hello' + 'How are you')"
   ]
  },
  {
   "cell_type": "markdown",
   "metadata": {},
   "source": [
    "### Variables \n",
    "- Here in Python it does not required to define with specific keyword like int,long and etc..\n",
    "- Python supports diffent kind of datatypes\n",
    "    - int\n",
    "    - string\n",
    "    - float\n",
    "    - boolean"
   ]
  },
  {
   "cell_type": "code",
   "execution_count": 8,
   "metadata": {},
   "outputs": [],
   "source": [
    "a = 1000 # Create a variable called a and assign the value as 1000"
   ]
  },
  {
   "cell_type": "code",
   "execution_count": 9,
   "metadata": {},
   "outputs": [
    {
     "data": {
      "text/plain": [
       "1000"
      ]
     },
     "execution_count": 9,
     "metadata": {},
     "output_type": "execute_result"
    }
   ],
   "source": [
    "a"
   ]
  },
  {
   "cell_type": "code",
   "execution_count": 10,
   "metadata": {},
   "outputs": [
    {
     "name": "stdout",
     "output_type": "stream",
     "text": [
      "1000100010\n"
     ]
    }
   ],
   "source": [
    "a = 1000100010\n",
    "print(a)"
   ]
  },
  {
   "cell_type": "code",
   "execution_count": 11,
   "metadata": {},
   "outputs": [
    {
     "name": "stdout",
     "output_type": "stream",
     "text": [
      "<class 'int'>\n"
     ]
    }
   ],
   "source": [
    "print(type(a))"
   ]
  },
  {
   "cell_type": "code",
   "execution_count": 12,
   "metadata": {},
   "outputs": [
    {
     "name": "stdout",
     "output_type": "stream",
     "text": [
      "10001000101000100010 <class 'int'>\n"
     ]
    }
   ],
   "source": [
    "a = 10001000101000100010\n",
    "print(a,type(a))"
   ]
  },
  {
   "cell_type": "code",
   "execution_count": 13,
   "metadata": {},
   "outputs": [
    {
     "name": "stdout",
     "output_type": "stream",
     "text": [
      "1000.111 <class 'float'>\n"
     ]
    }
   ],
   "source": [
    "b = 1000.111\n",
    "print(b,type(b))"
   ]
  },
  {
   "cell_type": "code",
   "execution_count": 14,
   "metadata": {},
   "outputs": [
    {
     "name": "stdout",
     "output_type": "stream",
     "text": [
      "1.00010001010001e+19 <class 'float'>\n"
     ]
    }
   ],
   "source": [
    "b = 10001000101000100010.128918291\n",
    "print(b,type(b))"
   ]
  },
  {
   "cell_type": "code",
   "execution_count": 15,
   "metadata": {},
   "outputs": [
    {
     "name": "stdout",
     "output_type": "stream",
     "text": [
      "a <class 'str'>\n"
     ]
    }
   ],
   "source": [
    "c = 'a'\n",
    "print(c,type(c))"
   ]
  },
  {
   "cell_type": "code",
   "execution_count": 16,
   "metadata": {},
   "outputs": [
    {
     "name": "stdout",
     "output_type": "stream",
     "text": [
      "application <class 'str'>\n"
     ]
    }
   ],
   "source": [
    "c = 'application'\n",
    "print(c,type(c))"
   ]
  },
  {
   "cell_type": "code",
   "execution_count": 17,
   "metadata": {},
   "outputs": [
    {
     "name": "stdout",
     "output_type": "stream",
     "text": [
      "a <class 'str'>\n"
     ]
    }
   ],
   "source": [
    "c = \"a\"\n",
    "print(c,type(c))"
   ]
  },
  {
   "cell_type": "code",
   "execution_count": 18,
   "metadata": {},
   "outputs": [
    {
     "name": "stdout",
     "output_type": "stream",
     "text": [
      "application <class 'str'>\n"
     ]
    }
   ],
   "source": [
    "c = \"application\"\n",
    "print(c,type(c))"
   ]
  },
  {
   "cell_type": "code",
   "execution_count": null,
   "metadata": {},
   "outputs": [],
   "source": []
  }
 ],
 "metadata": {
  "kernelspec": {
   "display_name": "Python 3",
   "language": "python",
   "name": "python3"
  },
  "language_info": {
   "codemirror_mode": {
    "name": "ipython",
    "version": 3
   },
   "file_extension": ".py",
   "mimetype": "text/x-python",
   "name": "python",
   "nbconvert_exporter": "python",
   "pygments_lexer": "ipython3",
   "version": "3.8.3"
  }
 },
 "nbformat": 4,
 "nbformat_minor": 4
}
