{
 "cells": [
  {
   "cell_type": "markdown",
   "metadata": {},
   "source": [
    "### While Loop\n",
    "- Syntax Finished\n",
    "- Basic Finished\n",
    "- Some of the Examples of while loop"
   ]
  },
  {
   "cell_type": "markdown",
   "metadata": {},
   "source": [
    "<img src=\"whileLoop.png\" height=\"350px\" width=\"500px\" align=\"center\" />"
   ]
  },
  {
   "cell_type": "code",
   "execution_count": null,
   "metadata": {},
   "outputs": [],
   "source": [
    "# Let's to print the number from 1 to 10\n",
    "i = 1\n",
    "while i <= 10:\n",
    "    print(i,end = ' ')\n",
    "    i += 1"
   ]
  },
  {
   "cell_type": "markdown",
   "metadata": {},
   "source": [
    "### Problem 1\n",
    "- Read the Number N\n",
    "- Print the Even Numbers between 1 to N"
   ]
  },
  {
   "cell_type": "code",
   "execution_count": 2,
   "metadata": {},
   "outputs": [
    {
     "name": "stdout",
     "output_type": "stream",
     "text": [
      "20\n",
      "2 4 6 8 10 12 14 16 18 20 "
     ]
    }
   ],
   "source": [
    "n = int(input())\n",
    "i = 1\n",
    "while i <= n:\n",
    "    if i % 2 == 0:\n",
    "        print(i,end= ' ')\n",
    "    i += 1"
   ]
  },
  {
   "cell_type": "markdown",
   "metadata": {},
   "source": [
    "### Problem 2\n",
    "- Read the number N as Input\n",
    "- Print the Odd Number sum from 1 to N\n",
    "    - Example N = 10\n",
    "    - Output : 25 (1+3+5+7+9)"
   ]
  },
  {
   "cell_type": "code",
   "execution_count": 4,
   "metadata": {},
   "outputs": [
    {
     "name": "stdout",
     "output_type": "stream",
     "text": [
      "20\n",
      "100\n"
     ]
    }
   ],
   "source": [
    "n = int(input())\n",
    "i = 1\n",
    "res = 0\n",
    "while i <= n:\n",
    "    if i % 2 != 0:\n",
    "        res += i # res = res + i\n",
    "    i += 1\n",
    "print(res)"
   ]
  },
  {
   "cell_type": "markdown",
   "metadata": {},
   "source": [
    "### Problem 3\n",
    "- Read the Number N as Input\n",
    "- Print the Digits of the number\n",
    "    - Example N = 123\n",
    "    - Output : 3 2 1\n",
    "    - Example N = 1889\n",
    "    - Output : 9 8 8 1"
   ]
  },
  {
   "cell_type": "markdown",
   "metadata": {},
   "source": [
    "<img src = \"Algorithm1.png\"  align = \"center\" Height = \"350px\" Width = \"500px\" />"
   ]
  },
  {
   "cell_type": "code",
   "execution_count": 6,
   "metadata": {},
   "outputs": [
    {
     "name": "stdout",
     "output_type": "stream",
     "text": [
      "1889\n",
      "9 8 8 1 "
     ]
    }
   ],
   "source": [
    "n = int(input())\n",
    "while n != 0:\n",
    "    r = n % 10\n",
    "    print(r,end = ' ')\n",
    "    n = n // 10"
   ]
  },
  {
   "cell_type": "markdown",
   "metadata": {},
   "source": [
    "### Problem 4\n",
    "- Read the value as number N\n",
    "- Print the Sum of Even numbers from N\n",
    "    - Example N - 1889\n",
    "    - Output : 16 (8+8)\n",
    "    - Example N - 123\n",
    "    - Output : 2(2)\n",
    "    - Example N - 135\n",
    "    - Output : 0"
   ]
  },
  {
   "cell_type": "code",
   "execution_count": 7,
   "metadata": {},
   "outputs": [
    {
     "name": "stdout",
     "output_type": "stream",
     "text": [
      "1889\n",
      "16\n"
     ]
    }
   ],
   "source": [
    "N=int(input())\n",
    "s=0\n",
    "while N!=0:\n",
    "    r=N%10\n",
    "    N=N//10\n",
    "    if (r%2==0):\n",
    "        s=r+s\n",
    "print(s)"
   ]
  },
  {
   "cell_type": "markdown",
   "metadata": {},
   "source": [
    "### Problem 5\n",
    "- Read the Number as Input \n",
    "- Reverse this number\n",
    "    - Example : 123\n",
    "    - Output : 321\n",
    "    - Example : 1889\n",
    "    - Output: 9881"
   ]
  },
  {
   "cell_type": "code",
   "execution_count": 10,
   "metadata": {},
   "outputs": [
    {
     "name": "stdout",
     "output_type": "stream",
     "text": [
      "17126517121373737\n",
      "73737312171562171\n"
     ]
    }
   ],
   "source": [
    "n = int(input())\n",
    "rev = 0\n",
    "while n != 0:\n",
    "    r = n % 10\n",
    "    rev = rev*10 + r\n",
    "    n = n // 10\n",
    "print(rev)"
   ]
  },
  {
   "cell_type": "markdown",
   "metadata": {},
   "source": [
    "### Problem 6\n",
    "- Read the Input as Number N\n",
    "- Print the Output as Following\n",
    "    - Example N = 1889\n",
    "    - Output : Nine Eight Eight One\n",
    "    - Example N = 123456789\n",
    "    - Output : Nine Eight Seven Siz Five Four Three Two One    "
   ]
  },
  {
   "cell_type": "code",
   "execution_count": 11,
   "metadata": {},
   "outputs": [
    {
     "name": "stdout",
     "output_type": "stream",
     "text": [
      "1889\n",
      "Nine Eight Eight One "
     ]
    }
   ],
   "source": [
    "n = int(input())\n",
    "while n != 0:\n",
    "    r = n % 10\n",
    "    n = n // 10\n",
    "    if r == 0:\n",
    "        print('Zero',end = ' ')\n",
    "    elif r == 1:\n",
    "        print('One',end = ' ')\n",
    "    elif r == 2:\n",
    "        print('Two',end = ' ')\n",
    "    elif r == 3:\n",
    "        print('Three',end = ' ')\n",
    "    elif r == 4:\n",
    "        print('Four',end = ' ')\n",
    "    elif r == 5:\n",
    "        print('Five',end = ' ')\n",
    "    elif r == 6:\n",
    "        print('Six',end = ' ')\n",
    "    elif r == 7:\n",
    "        print('Seven',end = ' ')\n",
    "    elif r == 8:\n",
    "        print('Eight',end = ' ')\n",
    "    elif r == 9:\n",
    "        print('Nine',end = ' ')"
   ]
  },
  {
   "cell_type": "markdown",
   "metadata": {},
   "source": [
    "### Problem 7\n",
    "- Read the Number N as Input\n",
    "- Print the Large Digit from the given input\n",
    "    - Example N = 1289182932398121 \n",
    "    - Output : 9"
   ]
  },
  {
   "cell_type": "code",
   "execution_count": 13,
   "metadata": {},
   "outputs": [
    {
     "name": "stdout",
     "output_type": "stream",
     "text": [
      "1289182932398121\n",
      "9\n"
     ]
    }
   ],
   "source": [
    "n = int(input())\n",
    "large_digit = 0\n",
    "while n != 0:\n",
    "    r = n % 10\n",
    "    if r > large_digit:\n",
    "        large_digit = r\n",
    "    n = n // 10\n",
    "print(large_digit)"
   ]
  },
  {
   "cell_type": "code",
   "execution_count": null,
   "metadata": {},
   "outputs": [],
   "source": []
  }
 ],
 "metadata": {
  "kernelspec": {
   "display_name": "Python 3",
   "language": "python",
   "name": "python3"
  },
  "language_info": {
   "codemirror_mode": {
    "name": "ipython",
    "version": 3
   },
   "file_extension": ".py",
   "mimetype": "text/x-python",
   "name": "python",
   "nbconvert_exporter": "python",
   "pygments_lexer": "ipython3",
   "version": "3.8.3"
  }
 },
 "nbformat": 4,
 "nbformat_minor": 4
}
