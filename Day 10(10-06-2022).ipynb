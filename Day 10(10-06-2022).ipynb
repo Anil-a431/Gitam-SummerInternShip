{
 "cells": [
  {
   "cell_type": "markdown",
   "metadata": {},
   "source": [
    "### Problem 1\n",
    "- Two List Objects\n",
    "- You need to get the output as following\n",
    "- Example :\n",
    "    Input:\n",
    "        - List1 : [1,2,3,4]\n",
    "        - List2 : ['a','b','c','d']\n",
    "    Output:\n",
    "        - Out:['1a','2b','3c','4d']"
   ]
  },
  {
   "cell_type": "code",
   "execution_count": 1,
   "metadata": {},
   "outputs": [],
   "source": [
    "def merge_lists(list1,list2):\n",
    "    out = []\n",
    "    for i in range(len(list1)):\n",
    "        out.append(str(list1[i])+str(list2[i]))\n",
    "    return out"
   ]
  },
  {
   "cell_type": "code",
   "execution_count": 2,
   "metadata": {},
   "outputs": [
    {
     "data": {
      "text/plain": [
       "['1a', '2b', '3c', '4d']"
      ]
     },
     "execution_count": 2,
     "metadata": {},
     "output_type": "execute_result"
    }
   ],
   "source": [
    "list1 = [1,2,3,4]\n",
    "list2 = ['a','b','c','d']\n",
    "merge_lists(list1,list2)"
   ]
  },
  {
   "cell_type": "markdown",
   "metadata": {},
   "source": [
    "### Problem 2:\n",
    "- List as a Input\n",
    "- Output : Seq of Characters\n",
    "- Example:\n",
    "    - Input \n",
    "        - List : [1,5,9,6,5,15,1,2,5] \n",
    "        - TargetValue : 5\n",
    "    - Output:\n",
    "        - !! !!!!! !!!!!!!!"
   ]
  },
  {
   "cell_type": "code",
   "execution_count": 5,
   "metadata": {},
   "outputs": [],
   "source": [
    "def generate_seq(li,target):\n",
    "    for i in range(len(li)):\n",
    "        if li[i] == target:\n",
    "            for j in range(0,i+1):\n",
    "                print('!',end='')\n",
    "        print('',end=' ')\n",
    "    return"
   ]
  },
  {
   "cell_type": "code",
   "execution_count": 6,
   "metadata": {},
   "outputs": [
    {
     "name": "stdout",
     "output_type": "stream",
     "text": [
      " !!   !!!!!    !!!!!!!!! "
     ]
    }
   ],
   "source": [
    "li = [1,5,9,6,5,15,1,2,5]\n",
    "key = 5\n",
    "generate_seq(li,key)"
   ]
  },
  {
   "cell_type": "code",
   "execution_count": 9,
   "metadata": {},
   "outputs": [],
   "source": [
    "def generate_seq(li,target):\n",
    "    out = []\n",
    "    for i in range(len(li)):\n",
    "        if li[i] == target:\n",
    "            out.append('!'*(i+1))\n",
    "        print('',end=' ')\n",
    "    return out"
   ]
  },
  {
   "cell_type": "code",
   "execution_count": 10,
   "metadata": {},
   "outputs": [
    {
     "name": "stdout",
     "output_type": "stream",
     "text": [
      "         "
     ]
    },
    {
     "data": {
      "text/plain": [
       "['!!', '!!!!!', '!!!!!!!!!']"
      ]
     },
     "execution_count": 10,
     "metadata": {},
     "output_type": "execute_result"
    }
   ],
   "source": [
    "li = [1,5,9,6,5,15,1,2,5]\n",
    "key = 5\n",
    "generate_seq(li,key)"
   ]
  },
  {
   "cell_type": "markdown",
   "metadata": {},
   "source": [
    "### Problem 3:\n",
    "- Input : List \n",
    "- Output : As Follows\n",
    "- Example 1:\n",
    "    - Input : [1,2,3,4,5]\n",
    "    - Output: [1,3,8,15,5]\n",
    "- Example 2:\n",
    "    - Input : [6,5,2,8,2]\n",
    "    - Output : [6,12,40,4,2]"
   ]
  },
  {
   "cell_type": "code",
   "execution_count": 12,
   "metadata": {},
   "outputs": [],
   "source": [
    "def formatted_output(li):\n",
    "    out = []\n",
    "    for i in range(len(li)):\n",
    "        if i == 0 or i == len(li) - 1:\n",
    "            out.append(li[i])\n",
    "        else:\n",
    "            out.append(li[i-1]*li[i+1])\n",
    "    return out"
   ]
  },
  {
   "cell_type": "code",
   "execution_count": 13,
   "metadata": {},
   "outputs": [
    {
     "data": {
      "text/plain": [
       "[1, 3, 8, 15, 5]"
      ]
     },
     "execution_count": 13,
     "metadata": {},
     "output_type": "execute_result"
    }
   ],
   "source": [
    "li = [1,2,3,4,5]\n",
    "formatted_output(li)"
   ]
  },
  {
   "cell_type": "code",
   "execution_count": 14,
   "metadata": {},
   "outputs": [
    {
     "data": {
      "text/plain": [
       "[6, 12, 40, 4, 2]"
      ]
     },
     "execution_count": 14,
     "metadata": {},
     "output_type": "execute_result"
    }
   ],
   "source": [
    "li = [6,5,2,8,2]\n",
    "formatted_output(li)"
   ]
  },
  {
   "cell_type": "markdown",
   "metadata": {},
   "source": [
    "### Problem 4:\n",
    "- Input a Number\n",
    "- Output as List\n",
    "    - Example\n",
    "        - 1889 - [1,8,8,9]\n",
    "        - 12376 - [1,2,3,7,6]"
   ]
  },
  {
   "cell_type": "code",
   "execution_count": 18,
   "metadata": {},
   "outputs": [],
   "source": [
    "def number_list_conversion(num):\n",
    "    li = []\n",
    "    while num != 0:\n",
    "        li.append(num%10)\n",
    "        num  = num // 10\n",
    "    li.reverse()\n",
    "    return li"
   ]
  },
  {
   "cell_type": "code",
   "execution_count": 19,
   "metadata": {},
   "outputs": [
    {
     "name": "stdout",
     "output_type": "stream",
     "text": [
      "[1, 8, 8, 9]\n"
     ]
    }
   ],
   "source": [
    "print(number_list_conversion(1889))"
   ]
  },
  {
   "cell_type": "markdown",
   "metadata": {},
   "source": [
    "### Problem 5:\n",
    "- Input  :  String\n",
    "- Output : List\n",
    "    - Example:\n",
    "        - \"1 2 3 4 5 6\" - [1,2,3,4,5,6]\n",
    "        - \"10 11 12 13\" - [10,11,12,13]"
   ]
  },
  {
   "cell_type": "code",
   "execution_count": 24,
   "metadata": {},
   "outputs": [],
   "source": [
    "def string_to_list(s):\n",
    "    li = s.split()\n",
    "    numberlist = []\n",
    "    for i in li:\n",
    "        numberlist.append(int(i))\n",
    "    return numberlist"
   ]
  },
  {
   "cell_type": "code",
   "execution_count": 25,
   "metadata": {},
   "outputs": [
    {
     "data": {
      "text/plain": [
       "[1, 2, 3, 4, 5, 6]"
      ]
     },
     "execution_count": 25,
     "metadata": {},
     "output_type": "execute_result"
    }
   ],
   "source": [
    "string_to_list('1 2 3 4 5 6')"
   ]
  },
  {
   "cell_type": "code",
   "execution_count": 29,
   "metadata": {},
   "outputs": [],
   "source": [
    "def str_to_list(num):\n",
    "    l=[]\n",
    "    for i in range(len(num)):\n",
    "        if num[i]==\" \":\n",
    "            l.append(int(num[i-1]))\n",
    "        elif i==len(num)-1:\n",
    "            l.append(int(num[i]))\n",
    "    return l"
   ]
  },
  {
   "cell_type": "code",
   "execution_count": 30,
   "metadata": {},
   "outputs": [
    {
     "name": "stdout",
     "output_type": "stream",
     "text": [
      "[1, 2, 3, 4, 5]\n"
     ]
    }
   ],
   "source": [
    "s=\"1 2 3 4 5\"\n",
    "print(str_to_list(s))"
   ]
  },
  {
   "cell_type": "code",
   "execution_count": null,
   "metadata": {},
   "outputs": [],
   "source": []
  }
 ],
 "metadata": {
  "kernelspec": {
   "display_name": "Python 3",
   "language": "python",
   "name": "python3"
  },
  "language_info": {
   "codemirror_mode": {
    "name": "ipython",
    "version": 3
   },
   "file_extension": ".py",
   "mimetype": "text/x-python",
   "name": "python",
   "nbconvert_exporter": "python",
   "pygments_lexer": "ipython3",
   "version": "3.8.3"
  }
 },
 "nbformat": 4,
 "nbformat_minor": 4
}
