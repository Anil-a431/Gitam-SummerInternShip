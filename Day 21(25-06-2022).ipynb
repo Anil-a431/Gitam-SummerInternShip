{
 "cells": [
  {
   "cell_type": "code",
   "execution_count": 1,
   "metadata": {},
   "outputs": [],
   "source": [
    "s1 ='''runner0:x:14000:14000::/home/runner0:/bin/sh\n",
    "runner1:x:14001:14001::/home/runner1:/bin/sh\n",
    "runner2:x:14002:14002::/home/runner2:/bin/sh\n",
    "runner3:x:14003:14003::/home/runner3:/bin/sh\n",
    "runner4:x:14004:14004::/home/runner4:/bin/sh\n",
    "runner5:x:14005:14005::/home/runner5:/bin/sh\n",
    "runner6:x:14006:14006::/home/runner6:/bin/sh\n",
    "runner7:x:14007:14007::/home/runner7:/bin/sh\n",
    "runner8:x:14008:14008::/home/runner8:/bin/sh\n",
    "runner9:x:14009:14009::/home/runner9:/bin/sh\n",
    "runner10:x:14010:14010::/home/runner10:/bin/sh\n",
    "runner11:x:14011:14011::/home/runner11:/bin/sh'''"
   ]
  },
  {
   "cell_type": "code",
   "execution_count": 12,
   "metadata": {},
   "outputs": [],
   "source": [
    "# Username:Password:UID:GID:Comment:HomeDir:LoginType\n",
    "def extract_data(s):\n",
    "    li = s.split('\\n')\n",
    "    overall_li = []\n",
    "    for i in li:\n",
    "        inner_li = i.split(':')\n",
    "        dict1 = {}\n",
    "        dict1['Username'] = inner_li[0]\n",
    "        dict1['Password'] = inner_li[1]\n",
    "        dict1['UID'] = inner_li[2]\n",
    "        dict1['GID'] = inner_li[3]\n",
    "        dict1['Comment'] = inner_li[4]\n",
    "        dict1['HomeDir'] = inner_li[5]\n",
    "        dict1['LoginType'] = inner_li[6]\n",
    "        overall_li.append(dict1)\n",
    "    return overall_li"
   ]
  },
  {
   "cell_type": "code",
   "execution_count": 33,
   "metadata": {},
   "outputs": [],
   "source": [
    "def extract_data1(s):\n",
    "    headers = ['Username','Password','UID','GID','Comment','HomeDir','LoginType']\n",
    "    li = s.split('\\n')\n",
    "    final_li = []\n",
    "    for i in li:\n",
    "        inner_li = i.split(':')\n",
    "        dict1 = {}\n",
    "        for j in range(0,len(inner_li)-1):\n",
    "            dict1[headers[j]] = inner_li[j]\n",
    "        final_li.append(dict1)\n",
    "    return final_li"
   ]
  },
  {
   "cell_type": "code",
   "execution_count": 40,
   "metadata": {},
   "outputs": [
    {
     "data": {
      "text/plain": [
       "[['runner0', 'x', '14000', '14000', '', '/home/runner0', '/bin/sh'],\n",
       " ['runner1', 'x', '14001', '14001', '', '/home/runner1', '/bin/sh'],\n",
       " ['runner2', 'x', '14002', '14002', '', '/home/runner2', '/bin/sh'],\n",
       " ['runner3', 'x', '14003', '14003', '', '/home/runner3', '/bin/sh'],\n",
       " ['runner4', 'x', '14004', '14004', '', '/home/runner4', '/bin/sh'],\n",
       " ['runner5', 'x', '14005', '14005', '', '/home/runner5', '/bin/sh'],\n",
       " ['runner6', 'x', '14006', '14006', '', '/home/runner6', '/bin/sh'],\n",
       " ['runner7', 'x', '14007', '14007', '', '/home/runner7', '/bin/sh'],\n",
       " ['runner8', 'x', '14008', '14008', '', '/home/runner8', '/bin/sh'],\n",
       " ['runner9', 'x', '14009', '14009', '', '/home/runner9', '/bin/sh'],\n",
       " ['runner10', 'x', '14010', '14010', '', '/home/runner10', '/bin/sh'],\n",
       " ['runner11', 'x', '14011', '14011', '', '/home/runner11', '/bin/sh']]"
      ]
     },
     "execution_count": 40,
     "metadata": {},
     "output_type": "execute_result"
    }
   ],
   "source": [
    "list1 = [i.split(':') for i in s1.splitlines()]\n",
    "list1"
   ]
  },
  {
   "cell_type": "code",
   "execution_count": 42,
   "metadata": {},
   "outputs": [
    {
     "data": {
      "text/plain": [
       "[{'Username': 'runner0',\n",
       "  'Password': 'x',\n",
       "  'UID': '14000',\n",
       "  'GID': '14000',\n",
       "  'Comment': '',\n",
       "  'HomeDir': '/home/runner0',\n",
       "  'LoginType': '/bin/sh'},\n",
       " {'Username': 'runner1',\n",
       "  'Password': 'x',\n",
       "  'UID': '14001',\n",
       "  'GID': '14001',\n",
       "  'Comment': '',\n",
       "  'HomeDir': '/home/runner1',\n",
       "  'LoginType': '/bin/sh'},\n",
       " {'Username': 'runner2',\n",
       "  'Password': 'x',\n",
       "  'UID': '14002',\n",
       "  'GID': '14002',\n",
       "  'Comment': '',\n",
       "  'HomeDir': '/home/runner2',\n",
       "  'LoginType': '/bin/sh'},\n",
       " {'Username': 'runner3',\n",
       "  'Password': 'x',\n",
       "  'UID': '14003',\n",
       "  'GID': '14003',\n",
       "  'Comment': '',\n",
       "  'HomeDir': '/home/runner3',\n",
       "  'LoginType': '/bin/sh'},\n",
       " {'Username': 'runner4',\n",
       "  'Password': 'x',\n",
       "  'UID': '14004',\n",
       "  'GID': '14004',\n",
       "  'Comment': '',\n",
       "  'HomeDir': '/home/runner4',\n",
       "  'LoginType': '/bin/sh'},\n",
       " {'Username': 'runner5',\n",
       "  'Password': 'x',\n",
       "  'UID': '14005',\n",
       "  'GID': '14005',\n",
       "  'Comment': '',\n",
       "  'HomeDir': '/home/runner5',\n",
       "  'LoginType': '/bin/sh'},\n",
       " {'Username': 'runner6',\n",
       "  'Password': 'x',\n",
       "  'UID': '14006',\n",
       "  'GID': '14006',\n",
       "  'Comment': '',\n",
       "  'HomeDir': '/home/runner6',\n",
       "  'LoginType': '/bin/sh'},\n",
       " {'Username': 'runner7',\n",
       "  'Password': 'x',\n",
       "  'UID': '14007',\n",
       "  'GID': '14007',\n",
       "  'Comment': '',\n",
       "  'HomeDir': '/home/runner7',\n",
       "  'LoginType': '/bin/sh'},\n",
       " {'Username': 'runner8',\n",
       "  'Password': 'x',\n",
       "  'UID': '14008',\n",
       "  'GID': '14008',\n",
       "  'Comment': '',\n",
       "  'HomeDir': '/home/runner8',\n",
       "  'LoginType': '/bin/sh'},\n",
       " {'Username': 'runner9',\n",
       "  'Password': 'x',\n",
       "  'UID': '14009',\n",
       "  'GID': '14009',\n",
       "  'Comment': '',\n",
       "  'HomeDir': '/home/runner9',\n",
       "  'LoginType': '/bin/sh'},\n",
       " {'Username': 'runner10',\n",
       "  'Password': 'x',\n",
       "  'UID': '14010',\n",
       "  'GID': '14010',\n",
       "  'Comment': '',\n",
       "  'HomeDir': '/home/runner10',\n",
       "  'LoginType': '/bin/sh'},\n",
       " {'Username': 'runner11',\n",
       "  'Password': 'x',\n",
       "  'UID': '14011',\n",
       "  'GID': '14011',\n",
       "  'Comment': '',\n",
       "  'HomeDir': '/home/runner11',\n",
       "  'LoginType': '/bin/sh'}]"
      ]
     },
     "execution_count": 42,
     "metadata": {},
     "output_type": "execute_result"
    }
   ],
   "source": [
    "list1 = [i.split(':') for i in s1.split('\\n')]\n",
    "names= ['Username','Password','UID','GID','Comment','HomeDir','LoginType']\n",
    "res = [{k:v for k,v in zip(names,i)} for i in list1]\n",
    "res"
   ]
  },
  {
   "cell_type": "code",
   "execution_count": 35,
   "metadata": {},
   "outputs": [
    {
     "data": {
      "text/plain": [
       "[{'Username': 'runner0',\n",
       "  'Password': 'x',\n",
       "  'UID': '14000',\n",
       "  'GID': '14000',\n",
       "  'Comment': '',\n",
       "  'HomeDir': '/home/runner0',\n",
       "  'LoginType': '/bin/sh'},\n",
       " {'Username': 'runner1',\n",
       "  'Password': 'x',\n",
       "  'UID': '14001',\n",
       "  'GID': '14001',\n",
       "  'Comment': '',\n",
       "  'HomeDir': '/home/runner1',\n",
       "  'LoginType': '/bin/sh'},\n",
       " {'Username': 'runner2',\n",
       "  'Password': 'x',\n",
       "  'UID': '14002',\n",
       "  'GID': '14002',\n",
       "  'Comment': '',\n",
       "  'HomeDir': '/home/runner2',\n",
       "  'LoginType': '/bin/sh'},\n",
       " {'Username': 'runner3',\n",
       "  'Password': 'x',\n",
       "  'UID': '14003',\n",
       "  'GID': '14003',\n",
       "  'Comment': '',\n",
       "  'HomeDir': '/home/runner3',\n",
       "  'LoginType': '/bin/sh'},\n",
       " {'Username': 'runner4',\n",
       "  'Password': 'x',\n",
       "  'UID': '14004',\n",
       "  'GID': '14004',\n",
       "  'Comment': '',\n",
       "  'HomeDir': '/home/runner4',\n",
       "  'LoginType': '/bin/sh'},\n",
       " {'Username': 'runner5',\n",
       "  'Password': 'x',\n",
       "  'UID': '14005',\n",
       "  'GID': '14005',\n",
       "  'Comment': '',\n",
       "  'HomeDir': '/home/runner5',\n",
       "  'LoginType': '/bin/sh'},\n",
       " {'Username': 'runner6',\n",
       "  'Password': 'x',\n",
       "  'UID': '14006',\n",
       "  'GID': '14006',\n",
       "  'Comment': '',\n",
       "  'HomeDir': '/home/runner6',\n",
       "  'LoginType': '/bin/sh'},\n",
       " {'Username': 'runner7',\n",
       "  'Password': 'x',\n",
       "  'UID': '14007',\n",
       "  'GID': '14007',\n",
       "  'Comment': '',\n",
       "  'HomeDir': '/home/runner7',\n",
       "  'LoginType': '/bin/sh'},\n",
       " {'Username': 'runner8',\n",
       "  'Password': 'x',\n",
       "  'UID': '14008',\n",
       "  'GID': '14008',\n",
       "  'Comment': '',\n",
       "  'HomeDir': '/home/runner8',\n",
       "  'LoginType': '/bin/sh'},\n",
       " {'Username': 'runner9',\n",
       "  'Password': 'x',\n",
       "  'UID': '14009',\n",
       "  'GID': '14009',\n",
       "  'Comment': '',\n",
       "  'HomeDir': '/home/runner9',\n",
       "  'LoginType': '/bin/sh'},\n",
       " {'Username': 'runner10',\n",
       "  'Password': 'x',\n",
       "  'UID': '14010',\n",
       "  'GID': '14010',\n",
       "  'Comment': '',\n",
       "  'HomeDir': '/home/runner10',\n",
       "  'LoginType': '/bin/sh'},\n",
       " {'Username': 'runner11',\n",
       "  'Password': 'x',\n",
       "  'UID': '14011',\n",
       "  'GID': '14011',\n",
       "  'Comment': '',\n",
       "  'HomeDir': '/home/runner11',\n",
       "  'LoginType': '/bin/sh'}]"
      ]
     },
     "execution_count": 35,
     "metadata": {},
     "output_type": "execute_result"
    }
   ],
   "source": [
    "list1 =  [i.split(\":\") for i in s1.splitlines()]\n",
    "names= ['Username','Password','UID','GID','Comment','HomeDir','LoginType']\n",
    "dict3 = [{k:v for k,v in zip(names,i)} for i in list1]\n",
    "dict3"
   ]
  },
  {
   "cell_type": "code",
   "execution_count": 34,
   "metadata": {},
   "outputs": [
    {
     "data": {
      "text/plain": [
       "[{'Username': 'runner0',\n",
       "  'Password': 'x',\n",
       "  'UID': '14000',\n",
       "  'GID': '14000',\n",
       "  'Comment': '',\n",
       "  'HomeDir': '/home/runner0'},\n",
       " {'Username': 'runner1',\n",
       "  'Password': 'x',\n",
       "  'UID': '14001',\n",
       "  'GID': '14001',\n",
       "  'Comment': '',\n",
       "  'HomeDir': '/home/runner1'},\n",
       " {'Username': 'runner2',\n",
       "  'Password': 'x',\n",
       "  'UID': '14002',\n",
       "  'GID': '14002',\n",
       "  'Comment': '',\n",
       "  'HomeDir': '/home/runner2'},\n",
       " {'Username': 'runner3',\n",
       "  'Password': 'x',\n",
       "  'UID': '14003',\n",
       "  'GID': '14003',\n",
       "  'Comment': '',\n",
       "  'HomeDir': '/home/runner3'},\n",
       " {'Username': 'runner4',\n",
       "  'Password': 'x',\n",
       "  'UID': '14004',\n",
       "  'GID': '14004',\n",
       "  'Comment': '',\n",
       "  'HomeDir': '/home/runner4'},\n",
       " {'Username': 'runner5',\n",
       "  'Password': 'x',\n",
       "  'UID': '14005',\n",
       "  'GID': '14005',\n",
       "  'Comment': '',\n",
       "  'HomeDir': '/home/runner5'},\n",
       " {'Username': 'runner6',\n",
       "  'Password': 'x',\n",
       "  'UID': '14006',\n",
       "  'GID': '14006',\n",
       "  'Comment': '',\n",
       "  'HomeDir': '/home/runner6'},\n",
       " {'Username': 'runner7',\n",
       "  'Password': 'x',\n",
       "  'UID': '14007',\n",
       "  'GID': '14007',\n",
       "  'Comment': '',\n",
       "  'HomeDir': '/home/runner7'},\n",
       " {'Username': 'runner8',\n",
       "  'Password': 'x',\n",
       "  'UID': '14008',\n",
       "  'GID': '14008',\n",
       "  'Comment': '',\n",
       "  'HomeDir': '/home/runner8'},\n",
       " {'Username': 'runner9',\n",
       "  'Password': 'x',\n",
       "  'UID': '14009',\n",
       "  'GID': '14009',\n",
       "  'Comment': '',\n",
       "  'HomeDir': '/home/runner9'},\n",
       " {'Username': 'runner10',\n",
       "  'Password': 'x',\n",
       "  'UID': '14010',\n",
       "  'GID': '14010',\n",
       "  'Comment': '',\n",
       "  'HomeDir': '/home/runner10'},\n",
       " {'Username': 'runner11',\n",
       "  'Password': 'x',\n",
       "  'UID': '14011',\n",
       "  'GID': '14011',\n",
       "  'Comment': '',\n",
       "  'HomeDir': '/home/runner11'}]"
      ]
     },
     "execution_count": 34,
     "metadata": {},
     "output_type": "execute_result"
    }
   ],
   "source": [
    "extract_data1(s1)"
   ]
  },
  {
   "cell_type": "code",
   "execution_count": 13,
   "metadata": {},
   "outputs": [
    {
     "data": {
      "text/plain": [
       "[{'Username': 'runner0',\n",
       "  'Password': 'x',\n",
       "  'UID': '14000',\n",
       "  'GID': '14000',\n",
       "  'Comment': '',\n",
       "  'HomeDir': '/home/runner0',\n",
       "  'LoginType': '/bin/sh'},\n",
       " {'Username': 'runner1',\n",
       "  'Password': 'x',\n",
       "  'UID': '14001',\n",
       "  'GID': '14001',\n",
       "  'Comment': '',\n",
       "  'HomeDir': '/home/runner1',\n",
       "  'LoginType': '/bin/sh'},\n",
       " {'Username': 'runner2',\n",
       "  'Password': 'x',\n",
       "  'UID': '14002',\n",
       "  'GID': '14002',\n",
       "  'Comment': '',\n",
       "  'HomeDir': '/home/runner2',\n",
       "  'LoginType': '/bin/sh'},\n",
       " {'Username': 'runner3',\n",
       "  'Password': 'x',\n",
       "  'UID': '14003',\n",
       "  'GID': '14003',\n",
       "  'Comment': '',\n",
       "  'HomeDir': '/home/runner3',\n",
       "  'LoginType': '/bin/sh'},\n",
       " {'Username': 'runner4',\n",
       "  'Password': 'x',\n",
       "  'UID': '14004',\n",
       "  'GID': '14004',\n",
       "  'Comment': '',\n",
       "  'HomeDir': '/home/runner4',\n",
       "  'LoginType': '/bin/sh'},\n",
       " {'Username': 'runner5',\n",
       "  'Password': 'x',\n",
       "  'UID': '14005',\n",
       "  'GID': '14005',\n",
       "  'Comment': '',\n",
       "  'HomeDir': '/home/runner5',\n",
       "  'LoginType': '/bin/sh'},\n",
       " {'Username': 'runner6',\n",
       "  'Password': 'x',\n",
       "  'UID': '14006',\n",
       "  'GID': '14006',\n",
       "  'Comment': '',\n",
       "  'HomeDir': '/home/runner6',\n",
       "  'LoginType': '/bin/sh'},\n",
       " {'Username': 'runner7',\n",
       "  'Password': 'x',\n",
       "  'UID': '14007',\n",
       "  'GID': '14007',\n",
       "  'Comment': '',\n",
       "  'HomeDir': '/home/runner7',\n",
       "  'LoginType': '/bin/sh'},\n",
       " {'Username': 'runner8',\n",
       "  'Password': 'x',\n",
       "  'UID': '14008',\n",
       "  'GID': '14008',\n",
       "  'Comment': '',\n",
       "  'HomeDir': '/home/runner8',\n",
       "  'LoginType': '/bin/sh'},\n",
       " {'Username': 'runner9',\n",
       "  'Password': 'x',\n",
       "  'UID': '14009',\n",
       "  'GID': '14009',\n",
       "  'Comment': '',\n",
       "  'HomeDir': '/home/runner9',\n",
       "  'LoginType': '/bin/sh'},\n",
       " {'Username': 'runner10',\n",
       "  'Password': 'x',\n",
       "  'UID': '14010',\n",
       "  'GID': '14010',\n",
       "  'Comment': '',\n",
       "  'HomeDir': '/home/runner10',\n",
       "  'LoginType': '/bin/sh'},\n",
       " {'Username': 'runner11',\n",
       "  'Password': 'x',\n",
       "  'UID': '14011',\n",
       "  'GID': '14011',\n",
       "  'Comment': '',\n",
       "  'HomeDir': '/home/runner11',\n",
       "  'LoginType': '/bin/sh'}]"
      ]
     },
     "execution_count": 13,
     "metadata": {},
     "output_type": "execute_result"
    }
   ],
   "source": [
    "extract_data(s1)"
   ]
  },
  {
   "cell_type": "markdown",
   "metadata": {},
   "source": [
    "### Transforming Code into Beatiful, Idomatic Python"
   ]
  },
  {
   "cell_type": "code",
   "execution_count": 43,
   "metadata": {},
   "outputs": [
    {
     "name": "stdout",
     "output_type": "stream",
     "text": [
      "0 1 4 9 16 25 "
     ]
    }
   ],
   "source": [
    "# Earlier Approch\n",
    "for i in [0,1,2,3,4,5]:\n",
    "    print(i**2,end=' ')"
   ]
  },
  {
   "cell_type": "code",
   "execution_count": 44,
   "metadata": {},
   "outputs": [
    {
     "name": "stdout",
     "output_type": "stream",
     "text": [
      "0 1 4 9 16 25 "
     ]
    }
   ],
   "source": [
    "# Better\n",
    "for i in range(6):\n",
    "    print(i**2,end=' ')"
   ]
  },
  {
   "cell_type": "code",
   "execution_count": 45,
   "metadata": {},
   "outputs": [
    {
     "ename": "NameError",
     "evalue": "name 'xrange' is not defined",
     "output_type": "error",
     "traceback": [
      "\u001b[1;31m---------------------------------------------------------------------------\u001b[0m",
      "\u001b[1;31mNameError\u001b[0m                                 Traceback (most recent call last)",
      "\u001b[1;32m<ipython-input-45-aff17938f2f5>\u001b[0m in \u001b[0;36m<module>\u001b[1;34m\u001b[0m\n\u001b[0;32m      1\u001b[0m \u001b[1;31m# Better\u001b[0m\u001b[1;33m\u001b[0m\u001b[1;33m\u001b[0m\u001b[1;33m\u001b[0m\u001b[0m\n\u001b[1;32m----> 2\u001b[1;33m \u001b[1;32mfor\u001b[0m \u001b[0mi\u001b[0m \u001b[1;32min\u001b[0m \u001b[0mxrange\u001b[0m\u001b[1;33m(\u001b[0m\u001b[1;36m6\u001b[0m\u001b[1;33m)\u001b[0m\u001b[1;33m:\u001b[0m\u001b[1;33m\u001b[0m\u001b[1;33m\u001b[0m\u001b[0m\n\u001b[0m\u001b[0;32m      3\u001b[0m     \u001b[0mprint\u001b[0m\u001b[1;33m(\u001b[0m\u001b[0mi\u001b[0m\u001b[1;33m**\u001b[0m\u001b[1;36m2\u001b[0m\u001b[1;33m,\u001b[0m\u001b[0mend\u001b[0m\u001b[1;33m=\u001b[0m\u001b[1;34m' '\u001b[0m\u001b[1;33m)\u001b[0m\u001b[1;33m\u001b[0m\u001b[1;33m\u001b[0m\u001b[0m\n",
      "\u001b[1;31mNameError\u001b[0m: name 'xrange' is not defined"
     ]
    }
   ],
   "source": [
    "# Better\n",
    "for i in xrange(6):\n",
    "    print(i**2,end=' ')"
   ]
  },
  {
   "cell_type": "markdown",
   "metadata": {},
   "source": [
    "### Looping Over the Collection"
   ]
  },
  {
   "cell_type": "code",
   "execution_count": 46,
   "metadata": {},
   "outputs": [
    {
     "name": "stdout",
     "output_type": "stream",
     "text": [
      "Red Greeen Yellow Blue Black "
     ]
    }
   ],
   "source": [
    "colors = ['Red','Greeen','Yellow','Blue','Black']\n",
    "for i in range(len(colors)):\n",
    "    print(colors[i],end= ' ')"
   ]
  },
  {
   "cell_type": "code",
   "execution_count": 47,
   "metadata": {},
   "outputs": [
    {
     "name": "stdout",
     "output_type": "stream",
     "text": [
      "Red Greeen Yellow Blue Black "
     ]
    }
   ],
   "source": [
    "# Better\n",
    "for i in colors:\n",
    "    print(i,end = ' ')"
   ]
  },
  {
   "cell_type": "markdown",
   "metadata": {},
   "source": [
    "### Looping Backwards"
   ]
  },
  {
   "cell_type": "code",
   "execution_count": 49,
   "metadata": {},
   "outputs": [
    {
     "name": "stdout",
     "output_type": "stream",
     "text": [
      "Black Blue Yellow Greeen Red "
     ]
    }
   ],
   "source": [
    "# Earlier Approch\n",
    "for i in range(len(colors)-1,-1,-1):\n",
    "    print(colors[i],end = ' ')"
   ]
  },
  {
   "cell_type": "code",
   "execution_count": 50,
   "metadata": {},
   "outputs": [
    {
     "name": "stdout",
     "output_type": "stream",
     "text": [
      "Black Blue Yellow Greeen Red "
     ]
    }
   ],
   "source": [
    "# Better\n",
    "for i in reversed(colors):\n",
    "    print(i,end = ' ')"
   ]
  },
  {
   "cell_type": "code",
   "execution_count": 51,
   "metadata": {},
   "outputs": [
    {
     "name": "stdout",
     "output_type": "stream",
     "text": [
      "Black Blue Greeen Red Yellow "
     ]
    }
   ],
   "source": [
    "# Better\n",
    "for i in sorted(colors):\n",
    "    print(i,end = ' ')"
   ]
  },
  {
   "cell_type": "code",
   "execution_count": 52,
   "metadata": {},
   "outputs": [
    {
     "name": "stdout",
     "output_type": "stream",
     "text": [
      "Yellow Red Greeen Blue Black "
     ]
    }
   ],
   "source": [
    "for i in sorted(colors,reverse=True):\n",
    "    print(i,end = ' ')"
   ]
  },
  {
   "cell_type": "code",
   "execution_count": 53,
   "metadata": {},
   "outputs": [
    {
     "name": "stdout",
     "output_type": "stream",
     "text": [
      "Black Blue Greeen Red Yellow "
     ]
    }
   ],
   "source": [
    "for i in sorted(colors,reverse=False):\n",
    "    print(i,end = ' ')"
   ]
  },
  {
   "cell_type": "markdown",
   "metadata": {},
   "source": [
    "### Looping Over a Collection and Index(Indices)"
   ]
  },
  {
   "cell_type": "code",
   "execution_count": 54,
   "metadata": {},
   "outputs": [
    {
     "name": "stdout",
     "output_type": "stream",
     "text": [
      "Index :  0  Value :  Red\n",
      "Index :  1  Value :  Greeen\n",
      "Index :  2  Value :  Yellow\n",
      "Index :  3  Value :  Blue\n",
      "Index :  4  Value :  Black\n"
     ]
    }
   ],
   "source": [
    "for i in range(len(colors)):\n",
    "    print('Index : ',i,' Value : ',colors[i])"
   ]
  },
  {
   "cell_type": "code",
   "execution_count": 55,
   "metadata": {},
   "outputs": [
    {
     "name": "stdout",
     "output_type": "stream",
     "text": [
      "Index :  0  Value :  Red\n",
      "Index :  1  Value :  Greeen\n",
      "Index :  2  Value :  Yellow\n",
      "Index :  3  Value :  Blue\n",
      "Index :  4  Value :  Black\n"
     ]
    }
   ],
   "source": [
    "for i,value in enumerate(colors):\n",
    "    print('Index : ',i,' Value : ',value)    "
   ]
  },
  {
   "cell_type": "markdown",
   "metadata": {},
   "source": [
    "### Looping Over Dict Keys"
   ]
  },
  {
   "cell_type": "code",
   "execution_count": 56,
   "metadata": {},
   "outputs": [
    {
     "name": "stdout",
     "output_type": "stream",
     "text": [
      "Anil Ajay Dinesh Suresh "
     ]
    }
   ],
   "source": [
    "dict1 = {'Anil':'Software Engineer','Ajay':'Trainer','Dinesh':'Lead','Suresh':'Manager'}\n",
    "for k in dict1:\n",
    "    print(k,end = ' ')"
   ]
  },
  {
   "cell_type": "code",
   "execution_count": 57,
   "metadata": {},
   "outputs": [
    {
     "name": "stdout",
     "output_type": "stream",
     "text": [
      "Anil Software Engineer\n",
      "Ajay Trainer\n",
      "Dinesh Lead\n",
      "Suresh Manager\n"
     ]
    }
   ],
   "source": [
    "for k,v in dict1.items():\n",
    "    print(k,v)"
   ]
  },
  {
   "cell_type": "code",
   "execution_count": 60,
   "metadata": {},
   "outputs": [
    {
     "name": "stdout",
     "output_type": "stream",
     "text": [
      "Key :  Anil Value :  Software Engineer\n",
      "Key :  Ajay Value :  Trainer\n",
      "Key :  Dinesh Value :  Lead\n",
      "Key :  Suresh Value :  Manager\n"
     ]
    }
   ],
   "source": [
    "for k in dict1:\n",
    "    print('Key : ',k,'Value : ',dict1[k])"
   ]
  },
  {
   "cell_type": "code",
   "execution_count": 63,
   "metadata": {},
   "outputs": [
    {
     "data": {
      "text/plain": [
       "{'Dinesh': 'Lead', 'Suresh': 'Manager'}"
      ]
     },
     "execution_count": 63,
     "metadata": {},
     "output_type": "execute_result"
    }
   ],
   "source": [
    "for k in dict1.keys():\n",
    "    if k.startswith('A'):\n",
    "        del dict1[k]"
   ]
  },
  {
   "cell_type": "markdown",
   "metadata": {},
   "source": [
    "### DefaultDict, OrderedDict"
   ]
  },
  {
   "cell_type": "markdown",
   "metadata": {},
   "source": [
    "#### DefaultDict\n",
    "- DefacultDict is container like dictionaries present in the module collections\n",
    "- DefacultDict is sub-clas of Dictionary class"
   ]
  },
  {
   "cell_type": "code",
   "execution_count": 64,
   "metadata": {},
   "outputs": [],
   "source": [
    "from collections import defaultdict"
   ]
  },
  {
   "cell_type": "code",
   "execution_count": 66,
   "metadata": {},
   "outputs": [
    {
     "name": "stdout",
     "output_type": "stream",
     "text": [
      "defaultdict(<class 'int'>, {'Red': 1, 'Greeen': 1, 'Yellow': 1, 'Blue': 1, 'Black': 1})\n"
     ]
    }
   ],
   "source": [
    "colors = ['Red','Greeen','Yellow','Blue','Black']\n",
    "d = defaultdict(int)\n",
    "for i in colors:\n",
    "    d[i] += 1\n",
    "print(d)"
   ]
  },
  {
   "cell_type": "code",
   "execution_count": 68,
   "metadata": {},
   "outputs": [
    {
     "name": "stdout",
     "output_type": "stream",
     "text": [
      "defaultdict(<class 'list'>, {'Red': ['Red'], 'Greeen': ['Greeen'], 'Yellow': ['Yellow'], 'Blue': ['Blue'], 'Black': ['Black']})\n"
     ]
    }
   ],
   "source": [
    "colors = ['Red','Greeen','Yellow','Blue','Black']\n",
    "d = defaultdict(list)\n",
    "for i in colors:\n",
    "    d[i].append(i)\n",
    "print(d)"
   ]
  },
  {
   "cell_type": "markdown",
   "metadata": {},
   "source": [
    "### Ordered Dict\n",
    "- An Ordereddict is dictionary sub class that remembers the order that keys were inserted first \n",
    "- Only difference between dict() and ordereddict() is preserves the order in which keys are inserted"
   ]
  },
  {
   "cell_type": "code",
   "execution_count": 70,
   "metadata": {},
   "outputs": [],
   "source": [
    "from collections import OrderedDict"
   ]
  },
  {
   "cell_type": "code",
   "execution_count": 71,
   "metadata": {},
   "outputs": [
    {
     "name": "stdout",
     "output_type": "stream",
     "text": [
      "a 1\n",
      "b 2\n",
      "c 3\n",
      "d 4\n"
     ]
    }
   ],
   "source": [
    "d = {}\n",
    "d['a'] = 1\n",
    "d['b'] = 2\n",
    "d['c'] = 3\n",
    "d['d'] = 4\n",
    "for k,v in d.items():\n",
    "    print(k,v)"
   ]
  },
  {
   "cell_type": "code",
   "execution_count": 72,
   "metadata": {},
   "outputs": [
    {
     "name": "stdout",
     "output_type": "stream",
     "text": [
      "a 1\n",
      "b 2\n",
      "c 3\n",
      "d 4\n"
     ]
    }
   ],
   "source": [
    "od = OrderedDict()\n",
    "od['a'] = 1\n",
    "od['b'] = 2\n",
    "od['c'] = 3\n",
    "od['d'] = 4\n",
    "for k,v in od.items():\n",
    "    print(k,v)"
   ]
  },
  {
   "cell_type": "code",
   "execution_count": 73,
   "metadata": {},
   "outputs": [],
   "source": [
    "del od['c']"
   ]
  },
  {
   "cell_type": "code",
   "execution_count": 74,
   "metadata": {},
   "outputs": [
    {
     "data": {
      "text/plain": [
       "OrderedDict([('a', 1), ('b', 2), ('d', 4)])"
      ]
     },
     "execution_count": 74,
     "metadata": {},
     "output_type": "execute_result"
    }
   ],
   "source": [
    "od"
   ]
  },
  {
   "cell_type": "code",
   "execution_count": 75,
   "metadata": {},
   "outputs": [],
   "source": [
    "od['c'] = 3"
   ]
  },
  {
   "cell_type": "code",
   "execution_count": 76,
   "metadata": {},
   "outputs": [
    {
     "data": {
      "text/plain": [
       "OrderedDict([('a', 1), ('b', 2), ('d', 4), ('c', 3)])"
      ]
     },
     "execution_count": 76,
     "metadata": {},
     "output_type": "execute_result"
    }
   ],
   "source": [
    "od"
   ]
  },
  {
   "cell_type": "code",
   "execution_count": 78,
   "metadata": {},
   "outputs": [],
   "source": [
    "brands = ['Dell','Lenovo','HP','Apple','Vivo','Iphone','Motorola','MI']\n",
    "d = {}\n",
    "for i in brands:\n",
    "    key = len(i)\n",
    "    if key not in d:\n",
    "        d[key] = []\n",
    "    d[key].append(i)"
   ]
  },
  {
   "cell_type": "code",
   "execution_count": 79,
   "metadata": {},
   "outputs": [
    {
     "data": {
      "text/plain": [
       "{4: ['Dell', 'Vivo'],\n",
       " 6: ['Lenovo', 'Iphone'],\n",
       " 2: ['HP', 'MI'],\n",
       " 5: ['Apple'],\n",
       " 8: ['Motorola']}"
      ]
     },
     "execution_count": 79,
     "metadata": {},
     "output_type": "execute_result"
    }
   ],
   "source": [
    "d"
   ]
  },
  {
   "cell_type": "code",
   "execution_count": 80,
   "metadata": {},
   "outputs": [
    {
     "data": {
      "text/plain": [
       "defaultdict(list,\n",
       "            {4: ['Dell', 'Vivo'],\n",
       "             6: ['Lenovo', 'Iphone'],\n",
       "             2: ['HP', 'MI'],\n",
       "             5: ['Apple'],\n",
       "             8: ['Motorola']})"
      ]
     },
     "execution_count": 80,
     "metadata": {},
     "output_type": "execute_result"
    }
   ],
   "source": [
    "d1 = defaultdict(list)\n",
    "for i in brands:\n",
    "    key = len(i)\n",
    "    d1[key].append(i)\n",
    "d1"
   ]
  },
  {
   "cell_type": "code",
   "execution_count": null,
   "metadata": {},
   "outputs": [],
   "source": []
  }
 ],
 "metadata": {
  "kernelspec": {
   "display_name": "Python 3",
   "language": "python",
   "name": "python3"
  },
  "language_info": {
   "codemirror_mode": {
    "name": "ipython",
    "version": 3
   },
   "file_extension": ".py",
   "mimetype": "text/x-python",
   "name": "python",
   "nbconvert_exporter": "python",
   "pygments_lexer": "ipython3",
   "version": "3.8.3"
  }
 },
 "nbformat": 4,
 "nbformat_minor": 4
}
