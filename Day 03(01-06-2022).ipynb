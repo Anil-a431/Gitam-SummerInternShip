{
 "cells": [
  {
   "cell_type": "markdown",
   "metadata": {},
   "source": [
    "### Today's Objectives\n",
    "- input() function and Datatype Conversions\n",
    "- Operators\n",
    "- Control Flow Statements\n",
    "    - Conditional Statements\n",
    "        - if - else\n",
    "    - Looping Statements\n",
    "        - while\n",
    "        - for\n",
    "       "
   ]
  },
  {
   "cell_type": "markdown",
   "metadata": {},
   "source": [
    "### Datatype Conversions\n",
    "- Meaning of datatype conversion is converting the given datatype to another datatype"
   ]
  },
  {
   "cell_type": "code",
   "execution_count": 1,
   "metadata": {},
   "outputs": [
    {
     "name": "stdout",
     "output_type": "stream",
     "text": [
      "1234 <class 'str'>\n"
     ]
    }
   ],
   "source": [
    "a = \"1234\"\n",
    "print(a,type(a))"
   ]
  },
  {
   "cell_type": "code",
   "execution_count": 4,
   "metadata": {},
   "outputs": [
    {
     "ename": "TypeError",
     "evalue": "can only concatenate str (not \"int\") to str",
     "output_type": "error",
     "traceback": [
      "\u001b[1;31m---------------------------------------------------------------------------\u001b[0m",
      "\u001b[1;31mTypeError\u001b[0m                                 Traceback (most recent call last)",
      "\u001b[1;32m<ipython-input-4-abc99216c09d>\u001b[0m in \u001b[0;36m<module>\u001b[1;34m\u001b[0m\n\u001b[1;32m----> 1\u001b[1;33m \u001b[0ma\u001b[0m \u001b[1;33m=\u001b[0m \u001b[0ma\u001b[0m \u001b[1;33m+\u001b[0m \u001b[1;36m10\u001b[0m\u001b[1;33m\u001b[0m\u001b[1;33m\u001b[0m\u001b[0m\n\u001b[0m\u001b[0;32m      2\u001b[0m \u001b[0mprint\u001b[0m\u001b[1;33m(\u001b[0m\u001b[0ma\u001b[0m\u001b[1;33m)\u001b[0m\u001b[1;33m\u001b[0m\u001b[1;33m\u001b[0m\u001b[0m\n",
      "\u001b[1;31mTypeError\u001b[0m: can only concatenate str (not \"int\") to str"
     ]
    }
   ],
   "source": [
    "a = a + 10\n",
    "print(a)"
   ]
  },
  {
   "cell_type": "code",
   "execution_count": 5,
   "metadata": {},
   "outputs": [
    {
     "name": "stdout",
     "output_type": "stream",
     "text": [
      "12341010\n"
     ]
    }
   ],
   "source": [
    "a = a + \"10\"\n",
    "print(a)"
   ]
  },
  {
   "cell_type": "markdown",
   "metadata": {},
   "source": [
    "### Python Datatype Conversion Functions\n",
    "- int()\n",
    "- float()\n",
    "- str()\n",
    "- list(), tuple(), set(), dict(), ord(), chr()"
   ]
  },
  {
   "cell_type": "code",
   "execution_count": 6,
   "metadata": {},
   "outputs": [
    {
     "name": "stdout",
     "output_type": "stream",
     "text": [
      "12341010 <class 'int'>\n"
     ]
    }
   ],
   "source": [
    "a = int(a)\n",
    "print(a,type(a))"
   ]
  },
  {
   "cell_type": "code",
   "execution_count": 7,
   "metadata": {},
   "outputs": [
    {
     "name": "stdout",
     "output_type": "stream",
     "text": [
      "12342110\n"
     ]
    }
   ],
   "source": [
    "a = a + 1100\n",
    "print(a)"
   ]
  },
  {
   "cell_type": "code",
   "execution_count": 8,
   "metadata": {},
   "outputs": [
    {
     "name": "stdout",
     "output_type": "stream",
     "text": [
      "12891.12 <class 'float'>\n"
     ]
    }
   ],
   "source": [
    "b = 12891.12\n",
    "print(b,type(b))"
   ]
  },
  {
   "cell_type": "code",
   "execution_count": 9,
   "metadata": {},
   "outputs": [
    {
     "name": "stdout",
     "output_type": "stream",
     "text": [
      "12891 <class 'int'>\n"
     ]
    }
   ],
   "source": [
    "b = int(b)\n",
    "print(b,type(b))"
   ]
  },
  {
   "cell_type": "code",
   "execution_count": 10,
   "metadata": {},
   "outputs": [
    {
     "name": "stdout",
     "output_type": "stream",
     "text": [
      "12891.0\n"
     ]
    }
   ],
   "source": [
    "c = float(b)\n",
    "print(c)"
   ]
  },
  {
   "cell_type": "markdown",
   "metadata": {},
   "source": [
    "### Input() Function\n",
    "- Used to read the input value from the User and gives to Program\n",
    "- When input() is used the data will be reads in the str format"
   ]
  },
  {
   "cell_type": "code",
   "execution_count": 23,
   "metadata": {},
   "outputs": [
    {
     "name": "stdout",
     "output_type": "stream",
     "text": [
      "Enter a your nameadfasdfa\n",
      "Your Name is  adfasdfa\n"
     ]
    }
   ],
   "source": [
    "name = input('Enter a your name')\n",
    "print('Your Name is ',name)"
   ]
  },
  {
   "cell_type": "code",
   "execution_count": 12,
   "metadata": {},
   "outputs": [
    {
     "name": "stdout",
     "output_type": "stream",
     "text": [
      "Enter a number1111\n",
      "Your number is 1111\n"
     ]
    }
   ],
   "source": [
    "i1 = input('Enter a number')\n",
    "print('Your number is',i1)"
   ]
  },
  {
   "cell_type": "code",
   "execution_count": 13,
   "metadata": {},
   "outputs": [
    {
     "data": {
      "text/plain": [
       "str"
      ]
     },
     "execution_count": 13,
     "metadata": {},
     "output_type": "execute_result"
    }
   ],
   "source": [
    "type(i1)"
   ]
  },
  {
   "cell_type": "code",
   "execution_count": 14,
   "metadata": {},
   "outputs": [
    {
     "name": "stdout",
     "output_type": "stream",
     "text": [
      "11121\n",
      "11121 <class 'int'>\n"
     ]
    }
   ],
   "source": [
    "num = int(input())\n",
    "print(num,type(num))"
   ]
  },
  {
   "cell_type": "code",
   "execution_count": 15,
   "metadata": {},
   "outputs": [
    {
     "name": "stdout",
     "output_type": "stream",
     "text": [
      "1919.12121\n",
      "1919.12121 <class 'float'>\n"
     ]
    }
   ],
   "source": [
    "f = float(input())\n",
    "print(f,type(f))"
   ]
  },
  {
   "cell_type": "markdown",
   "metadata": {},
   "source": [
    "### Operators\n",
    "- Arithmetic Operators\n",
    "- Assignment Operators\n",
    "- Arth Assignment Operators\n",
    "- Relational Operators\n",
    "- Logical operators\n",
    "- Identity Operators\n",
    "- Bitwise Operators\n",
    "- Membership Operators"
   ]
  },
  {
   "cell_type": "markdown",
   "metadata": {},
   "source": [
    "### Arithmetic Operatos\n",
    "- +, - , *, /, //, **"
   ]
  },
  {
   "cell_type": "code",
   "execution_count": 20,
   "metadata": {},
   "outputs": [
    {
     "name": "stdout",
     "output_type": "stream",
     "text": [
      "a + b 13\n",
      "a - b 7\n",
      "a * b 30\n",
      "a / b 3.3333333333333335\n",
      "a // b 3\n",
      "a ** b 1000\n",
      "a % b 1\n"
     ]
    }
   ],
   "source": [
    "a = 10\n",
    "b = 3\n",
    "print('a + b',a + b)\n",
    "print('a - b',a - b)\n",
    "print('a * b',a * b)\n",
    "print('a / b',a/b) # Float Value\n",
    "print('a // b',a//b)\n",
    "print('a ** b',a**b) #pow(a,b)\n",
    "print('a % b',a%b) # Modulus it means the result will be remainder"
   ]
  },
  {
   "cell_type": "markdown",
   "metadata": {},
   "source": [
    "### Assignment Operators\n",
    "- WHich assign the value from right to left side it means the value will be saved into specific memory"
   ]
  },
  {
   "cell_type": "markdown",
   "metadata": {},
   "source": [
    "### Arithmetic Assignment Operators\n",
    "- +=, -=, *=, /=, %=, //=, **="
   ]
  },
  {
   "cell_type": "code",
   "execution_count": 22,
   "metadata": {},
   "outputs": [
    {
     "name": "stdout",
     "output_type": "stream",
     "text": [
      "a =  10 b =  3\n",
      "a =  13 b =  3\n",
      "a =  10 b =  3\n",
      "a =  30 b =  3\n",
      "a =  10.0 b =  3\n",
      "a =  3.0 b =  3\n",
      "a =  27.0 b =  3\n"
     ]
    }
   ],
   "source": [
    "a = 10\n",
    "b = 3\n",
    "print('a = ',a,'b = ',b)\n",
    "a += b\n",
    "print('a = ',a,'b = ',b)\n",
    "a -= b\n",
    "print('a = ',a,'b = ',b)\n",
    "a *= b\n",
    "print('a = ',a,'b = ',b)\n",
    "a /= b\n",
    "print('a = ',a,'b = ',b)\n",
    "a //= b\n",
    "print('a = ',a,'b = ',b)\n",
    "a **= b\n",
    "print('a = ',a,'b = ',b)"
   ]
  },
  {
   "cell_type": "markdown",
   "metadata": {},
   "source": [
    "### Comparision or Relational Operators\n",
    "- < > <= >= == !=\n",
    "- It always returns the value as **True or False**"
   ]
  },
  {
   "cell_type": "code",
   "execution_count": 24,
   "metadata": {},
   "outputs": [
    {
     "name": "stdout",
     "output_type": "stream",
     "text": [
      "a < b False\n",
      "a > b True\n",
      "a <= b False\n",
      "a >= b True\n",
      "a == b False\n",
      "a != b True\n"
     ]
    }
   ],
   "source": [
    "a = 10\n",
    "b = 3\n",
    "print('a < b',a < b)\n",
    "print('a > b',a > b)\n",
    "print('a <= b',a <= b)\n",
    "print('a >= b',a >= b)\n",
    "print('a == b',a == b)\n",
    "print('a != b',a != b)"
   ]
  },
  {
   "cell_type": "markdown",
   "metadata": {},
   "source": [
    "### Logical Operators\n",
    "- and\n",
    "    - Returns True if both Expressions/statements are true\n",
    "- or \n",
    "    - Returns True if one of the Expression/Statement is true\n",
    "- not\n",
    "    - Reverse the result, it means if a input is True and Output Will be False"
   ]
  },
  {
   "cell_type": "code",
   "execution_count": 25,
   "metadata": {},
   "outputs": [
    {
     "name": "stdout",
     "output_type": "stream",
     "text": [
      "True\n"
     ]
    }
   ],
   "source": [
    "x = 10\n",
    "y = 20\n",
    "res = x >= 10 and y >= 10\n",
    "print(res)"
   ]
  },
  {
   "cell_type": "code",
   "execution_count": 26,
   "metadata": {},
   "outputs": [
    {
     "name": "stdout",
     "output_type": "stream",
     "text": [
      "False\n"
     ]
    }
   ],
   "source": [
    "x = 10\n",
    "y = 20\n",
    "res = x > 10 and y > 20\n",
    "print(res)"
   ]
  },
  {
   "cell_type": "code",
   "execution_count": 27,
   "metadata": {},
   "outputs": [
    {
     "name": "stdout",
     "output_type": "stream",
     "text": [
      "False\n"
     ]
    }
   ],
   "source": [
    "x = 10\n",
    "y = 20\n",
    "res = x > 10 or y > 20\n",
    "print(res)"
   ]
  },
  {
   "cell_type": "code",
   "execution_count": 28,
   "metadata": {},
   "outputs": [
    {
     "name": "stdout",
     "output_type": "stream",
     "text": [
      "True\n"
     ]
    }
   ],
   "source": [
    "x = 10\n",
    "y = 20\n",
    "res = x > 10 or y > 10\n",
    "print(res)"
   ]
  },
  {
   "cell_type": "code",
   "execution_count": null,
   "metadata": {},
   "outputs": [],
   "source": []
  }
 ],
 "metadata": {
  "kernelspec": {
   "display_name": "Python 3",
   "language": "python",
   "name": "python3"
  },
  "language_info": {
   "codemirror_mode": {
    "name": "ipython",
    "version": 3
   },
   "file_extension": ".py",
   "mimetype": "text/x-python",
   "name": "python",
   "nbconvert_exporter": "python",
   "pygments_lexer": "ipython3",
   "version": "3.8.3"
  }
 },
 "nbformat": 4,
 "nbformat_minor": 4
}
